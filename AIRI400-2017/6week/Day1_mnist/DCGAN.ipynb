{
 "cells": [
  {
   "cell_type": "code",
   "execution_count": 3,
   "metadata": {
    "collapsed": true
   },
   "outputs": [],
   "source": [
    "import tensorflow as tf\n",
    "import numpy as np\n",
    "from matplotlib import pyplot as plt\n",
    "import matplotlib.gridspec as gridspec\n",
    "%matplotlib inline \n",
    "import sys"
   ]
  },
  {
   "cell_type": "code",
   "execution_count": 5,
   "metadata": {},
   "outputs": [
    {
     "name": "stdout",
     "output_type": "stream",
     "text": [
      "Extracting MNIST_data/train-images-idx3-ubyte.gz\nExtracting MNIST_data/train-labels-idx1-ubyte.gz\nExtracting MNIST_data/t10k-images-idx3-ubyte.gz\nExtracting MNIST_data/t10k-labels-idx1-ubyte.gz\n"
     ]
    }
   ],
   "source": [
    "from tensorflow.examples.tutorials.mnist import input_data\n",
    "mnist = input_data.read_data_sets('MNIST_data', one_hot=True)"
   ]
  },
  {
   "cell_type": "code",
   "execution_count": 13,
   "metadata": {},
   "outputs": [],
   "source": [
    "def plot(samples, D_loss, G_loss, epoch, total):\n",
    "\n",
    "    fig = plt.figure(figsize=(10, 5))        \n",
    "\n",
    "    gs = gridspec.GridSpec(4, 8)\n",
    "    gs.update(wspace=0.05, hspace=0.05)\n",
    "    \n",
    "    # Plot losses\n",
    "    ax = plt.subplot(gs[:, 4:])\n",
    "    ax.plot(D_loss, label=\"discriminator's loss\", color='b')\n",
    "    ax.plot(G_loss, label=\"generator's loss\", color='r')\n",
    "    ax.set_xlim([0, total])\n",
    "    ax.yaxis.tick_right()\n",
    "    ax.legend()\n",
    "\n",
    "    # Generate images\n",
    "    for i, sample in enumerate(samples):\n",
    "\n",
    "        if i > 4* 4 - 1:\n",
    "            break\n",
    "        ax = plt.subplot(gs[i % 4, int(i / 4)])\n",
    "        plt.axis('off')\n",
    "        ax.set_xticklabels([])\n",
    "        ax.set_yticklabels([])\n",
    "        ax.set_aspect('equal')\n",
    "        plt.imshow(sample.reshape(28, 28), cmap='Greys_r')\n",
    "\n",
    "    plt.savefig('./output/' + str(epoch + 1) + '.png')\n",
    "    plt.close()"
   ]
  },
  {
   "cell_type": "code",
   "execution_count": 14,
   "metadata": {},
   "outputs": [],
   "source": [
    "def Conv2d(input, output_dim=64, kernel=(5, 5), strides=(2, 2), stddev=0.2, name='conv_2d'):\n",
    "\n",
    "    with tf.variable_scope(name):\n",
    "        W = tf.get_variable('Conv2dW', [kernel[0], kernel[1], input.get_shape()[-1], output_dim],\n",
    "                             initializer=tf.truncated_normal_initializer(stddev=stddev))\n",
    "        b = tf.get_variable('Conv2db', [output_dim], initializer=tf.zeros_initializer())\n",
    "        \n",
    "        return tf.nn.conv2d(input, W, strides=[1, strides[0], strides[1], 1], padding='SAME') + b\n",
    "\n",
    "def Deconv2d(input, output_dim, batch_size, kernel=(5, 5), strides=(2, 2), stddev=0.2, name='deconv_2d'):\n",
    "    \n",
    "    with tf.variable_scope(name):\n",
    "        W = tf.get_variable('Deconv2dW', [kernel[0], kernel[1], output_dim, input.get_shape()[-1]],\n",
    "                             initializer=tf.truncated_normal_initializer(stddev=stddev))\n",
    "        b = tf.get_variable('Deconv2db', [output_dim], initializer=tf.zeros_initializer())\n",
    "\n",
    "        input_shape = input.get_shape().as_list()\n",
    "        output_shape = [batch_size,\n",
    "                        int(input_shape[1] * strides[0]),\n",
    "                        int(input_shape[2] * strides[1]),\n",
    "                        output_dim]\n",
    "\n",
    "        deconv = tf.nn.conv2d_transpose(input, W, output_shape=output_shape,\n",
    "                                        strides=[1, strides[0], strides[1], 1])\n",
    "    \n",
    "        return deconv + b\n",
    "\n",
    "def Dense(input, output_dim, stddev=0.02, name='dense'):\n",
    "    \n",
    "    with tf.variable_scope(name):\n",
    "        \n",
    "        shape = input.get_shape()\n",
    "        W = tf.get_variable('DenseW', [shape[1], output_dim], tf.float32,\n",
    "                            tf.random_normal_initializer(stddev=stddev))\n",
    "        b = tf.get_variable('Denseb', [output_dim],\n",
    "                            initializer=tf.zeros_initializer())\n",
    "        \n",
    "        return tf.matmul(input, W) + b\n",
    "\n",
    "def BatchNormalization(input, name='bn'):\n",
    "    \n",
    "    with tf.variable_scope(name):\n",
    "    \n",
    "        output_dim = input.get_shape()[-1]\n",
    "        beta = tf.get_variable('BnBeta', [output_dim],\n",
    "                            initializer=tf.zeros_initializer())\n",
    "        gamma = tf.get_variable('BnGamma', [output_dim],\n",
    "                            initializer=tf.ones_initializer())\n",
    "    \n",
    "        if len(input.get_shape()) == 2:\n",
    "            mean, var = tf.nn.moments(input, [0])\n",
    "        else:\n",
    "            mean, var = tf.nn.moments(input, [0, 1, 2])\n",
    "        return tf.nn.batch_normalization(input, mean, var, beta, gamma, 1e-5)\n",
    "    \n",
    "def LeakyReLU(input, leak=0.2, name='lrelu'):\n",
    "    \n",
    "    return tf.maximum(input, leak*input)"
   ]
  },
  {
   "cell_type": "code",
   "execution_count": 16,
   "metadata": {},
   "outputs": [
    {
     "ename": "SyntaxError",
     "evalue": "invalid syntax (<ipython-input-16-b6ff84be858a>, line 56)",
     "traceback": [
      "\u001b[0;36m  File \u001b[0;32m\"<ipython-input-16-b6ff84be858a>\"\u001b[0;36m, line \u001b[0;32m56\u001b[0m\n\u001b[0;31m    G_solver = tf.train.AdamOptimizer(learning_rate=2e-4, beta1=0.3).minimize(G_loss, var_list=g_params)BATCH_SIZE = 64\u001b[0m\n\u001b[0m                                                                                                                 ^\u001b[0m\n\u001b[0;31mSyntaxError\u001b[0m\u001b[0;31m:\u001b[0m invalid syntax\n"
     ],
     "output_type": "error"
    }
   ],
   "source": [
    "BATCH_SIZE = 64\n",
    "EPOCHS = 40\n",
    "\n",
    "def Discriminator(X, reuse=False, name='d'):\n",
    "\n",
    "    with tf.variable_scope(name, reuse=reuse):\n",
    "\n",
    "        if len(X.get_shape()) > 2:\n",
    "            # X: -1, 28, 28, 1\n",
    "            D_conv1 = Conv2d(X, output_dim=64, name='D_conv1')\n",
    "        else:\n",
    "            D_reshaped = tf.reshape(X, [-1, 28, 28, 1])\n",
    "            D_conv1 = Conv2d(D_reshaped, output_dim=64, name='D_conv1')\n",
    "        D_h1 = LeakyReLU(D_conv1) # [-1, 28, 28, 64]\n",
    "        D_conv2 = Conv2d(D_h1, output_dim=128, name='D_conv2')\n",
    "        D_h2 = LeakyReLU(D_conv2) # [-1, 28, 28, 128]\n",
    "        D_r2 = tf.reshape(D_h2, [-1, 256])\n",
    "        D_h3 = LeakyReLU(D_r2) # [-1, 256]\n",
    "        D_h4 = tf.nn.dropout(D_h3, 0.5)\n",
    "        D_h5 = Dense(D_h4, output_dim=1, name='D_h5') # [-1, 1]\n",
    "        return tf.nn.sigmoid(D_h5)\n",
    "\n",
    "def Generator(z, name='g'):\n",
    "\n",
    "    with tf.variable_scope(name):\n",
    "\n",
    "        G_1 = Dense(z, output_dim=1024, name='G_1') # [-1, 1024]\n",
    "        G_bn1 = BatchNormalization(G_1, name='G_bn1')\n",
    "        G_h1 = tf.nn.relu(G_bn1)\n",
    "        G_2 = Dense(G_h1, output_dim=7*7*128, name='G_2') # [-1, 7*7*128]\n",
    "        G_bn2 = BatchNormalization(G_2, name='G_bn2')        \n",
    "        G_h2 = tf.nn.relu(G_bn2)\n",
    "        G_r2 = tf.reshape(G_h2, [-1, 7, 7, 128])\n",
    "        G_conv3 = Deconv2d(G_r2, output_dim=64, batch_size=BATCH_SIZE, name='G_conv3')\n",
    "        G_bn3 = BatchNormalization(G_conv3, name='G_bn3')        \n",
    "        G_h3 = tf.nn.relu(G_bn3)\n",
    "        G_conv4 = Deconv2d(G_h3, output_dim=1, batch_size=BATCH_SIZE, name='G_conv4')\n",
    "        G_r4 = tf.reshape(G_conv4, [-1, 784])\n",
    "        return tf.nn.sigmoid(G_r4)\n",
    "\n",
    "X = tf.placeholder(tf.float32, shape=[None, 784])\n",
    "z = tf.placeholder(tf.float32, shape=[None, 100])\n",
    "\n",
    "G = Generator(z, 'G')\n",
    "D_real = Discriminator(X, False, 'D')\n",
    "D_fake = Discriminator(G, True, 'D')\n",
    "\n",
    "D_loss = -tf.reduce_mean(tf.log(D_real) - tf.log(D_fake)) # Train to judge if the data is real correctly\n",
    "G_loss = -tf.reduce_mean(tf.log(D_fake)) # Train to pass the discriminator as real data\n",
    "\n",
    "vars = tf.trainable_variables()\n",
    "d_params = [v for v in vars if v.name.startswith('D/')]\n",
    "g_params = [v for v in vars if v.name.startswith('G/')]\n",
    "\n",
    "D_solver = tf.train.AdamOptimizer(learning_rate=1e-4, beta1=0.1).minimize(D_loss, var_list=d_params)\n",
    "G_solver = tf.train.AdamOptimizer(learning_rate=2e-4, beta1=0.3).minimize(G_loss, var_list=g_params)BATCH_SIZE = 64\n",
    "EPOCHS = 40\n",
    "\n",
    "def Discriminator(X, reuse=False, name='d'):\n",
    "\n",
    "    with tf.variable_scope(name, reuse=reuse):\n",
    "\n",
    "        if len(X.get_shape()) > 2:\n",
    "            # X: -1, 28, 28, 1\n",
    "            D_conv1 = Conv2d(X, output_dim=64, name='D_conv1')\n",
    "        else:\n",
    "            D_reshaped = tf.reshape(X, [-1, 28, 28, 1])\n",
    "            D_conv1 = Conv2d(D_reshaped, output_dim=64, name='D_conv1')\n",
    "        D_h1 = LeakyReLU(D_conv1) # [-1, 28, 28, 64]\n",
    "        D_conv2 = Conv2d(D_h1, output_dim=128, name='D_conv2')\n",
    "        D_h2 = LeakyReLU(D_conv2) # [-1, 28, 28, 128]\n",
    "        D_r2 = tf.reshape(D_h2, [-1, 256])\n",
    "        D_h3 = LeakyReLU(D_r2) # [-1, 256]\n",
    "        D_h4 = tf.nn.dropout(D_h3, 0.5)\n",
    "        D_h5 = Dense(D_h4, output_dim=1, name='D_h5') # [-1, 1]\n",
    "        return tf.nn.sigmoid(D_h5)\n",
    "\n",
    "def Generator(z, name='g'):\n",
    "\n",
    "    with tf.variable_scope(name):\n",
    "\n",
    "        G_1 = Dense(z, output_dim=1024, name='G_1') # [-1, 1024]\n",
    "        G_bn1 = BatchNormalization(G_1, name='G_bn1')\n",
    "        G_h1 = tf.nn.relu(G_bn1)\n",
    "        G_2 = Dense(G_h1, output_dim=7*7*128, name='G_2') # [-1, 7*7*128]\n",
    "        G_bn2 = BatchNormalization(G_2, name='G_bn2')        \n",
    "        G_h2 = tf.nn.relu(G_bn2)\n",
    "        G_r2 = tf.reshape(G_h2, [-1, 7, 7, 128])\n",
    "        G_conv3 = Deconv2d(G_r2, output_dim=64, batch_size=BATCH_SIZE, name='G_conv3')\n",
    "        G_bn3 = BatchNormalization(G_conv3, name='G_bn3')        \n",
    "        G_h3 = tf.nn.relu(G_bn3)\n",
    "        G_conv4 = Deconv2d(G_h3, output_dim=1, batch_size=BATCH_SIZE, name='G_conv4')\n",
    "        G_r4 = tf.reshape(G_conv4, [-1, 784])\n",
    "        return tf.nn.sigmoid(G_r4)\n",
    "\n",
    "X = tf.placeholder(tf.float32, shape=[None, 784])\n",
    "z = tf.placeholder(tf.float32, shape=[None, 100])\n",
    "\n",
    "G = Generator(z, 'G')\n",
    "D_real = Discriminator(X, False, 'D')\n",
    "D_fake = Discriminator(G, True, 'D')\n",
    "\n",
    "D_loss = -tf.reduce_mean(tf.log(D_real) - tf.log(D_fake)) # Train to judge if the data is real correctly\n",
    "G_loss = -tf.reduce_mean(tf.log(D_fake)) # Train to pass the discriminator as real data\n",
    "\n",
    "vars = tf.trainable_variables()\n",
    "d_params = [v for v in vars if v.name.startswith('D/')]\n",
    "g_params = [v for v in vars if v.name.startswith('G/')]\n",
    "\n",
    "D_solver = tf.train.AdamOptimizer(learning_rate=1e-4, beta1=0.1).minimize(D_loss, var_list=d_params)\n",
    "G_solver = tf.train.AdamOptimizer(learning_rate=2e-4, beta1=0.3).minimize(G_loss, var_list=g_params)"
   ]
  },
  {
   "cell_type": "code",
   "execution_count": 12,
   "metadata": {},
   "outputs": [
    {
     "name": "stdout",
     "output_type": "stream",
     "text": [
      "\r0 / 859: -0.081988, 0.865336"
     ]
    },
    {
     "name": "stdout",
     "output_type": "stream",
     "text": [
      "\r1 / 859: -0.070667, 0.867702"
     ]
    },
    {
     "name": "stdout",
     "output_type": "stream",
     "text": [
      "\r2 / 859: -0.076795, 0.886248"
     ]
    },
    {
     "name": "stdout",
     "output_type": "stream",
     "text": [
      "\r3 / 859: -0.094220, 0.892940"
     ]
    },
    {
     "name": "stdout",
     "output_type": "stream",
     "text": [
      "\r4 / 859: -0.092541, 0.910386"
     ]
    },
    {
     "name": "stdout",
     "output_type": "stream",
     "text": [
      "\r5 / 859: -0.082885, 0.925700"
     ]
    },
    {
     "name": "stdout",
     "output_type": "stream",
     "text": [
      "\r6 / 859: -0.089548, 0.950908"
     ]
    },
    {
     "name": "stdout",
     "output_type": "stream",
     "text": [
      "\r7 / 859: -0.124725, 0.953533"
     ]
    },
    {
     "name": "stdout",
     "output_type": "stream",
     "text": [
      "\r8 / 859: -0.144625, 0.979270"
     ]
    },
    {
     "name": "stdout",
     "output_type": "stream",
     "text": [
      "\r9 / 859: -0.123253, 0.986672"
     ]
    },
    {
     "name": "stdout",
     "output_type": "stream",
     "text": [
      "\r10 / 859: -0.150894, 1.049989"
     ]
    },
    {
     "name": "stdout",
     "output_type": "stream",
     "text": [
      "\r11 / 859: -0.148968, 1.036413"
     ]
    },
    {
     "name": "stdout",
     "output_type": "stream",
     "text": [
      "\r12 / 859: -0.167769, 1.078315"
     ]
    },
    {
     "name": "stdout",
     "output_type": "stream",
     "text": [
      "\r13 / 859: -0.189667, 1.089068"
     ]
    },
    {
     "name": "stdout",
     "output_type": "stream",
     "text": [
      "\r14 / 859: -0.195110, 1.131213"
     ]
    },
    {
     "name": "stdout",
     "output_type": "stream",
     "text": [
      "\r15 / 859: -0.230916, 1.148267"
     ]
    },
    {
     "name": "stdout",
     "output_type": "stream",
     "text": [
      "\r16 / 859: -0.243503, 1.190677"
     ]
    },
    {
     "name": "stdout",
     "output_type": "stream",
     "text": [
      "\r17 / 859: -0.244244, 1.215222"
     ]
    },
    {
     "name": "stdout",
     "output_type": "stream",
     "text": [
      "\r18 / 859: -0.281195, 1.268993"
     ]
    },
    {
     "name": "stdout",
     "output_type": "stream",
     "text": [
      "\r19 / 859: -0.316255, 1.294429"
     ]
    },
    {
     "name": "stdout",
     "output_type": "stream",
     "text": [
      "\r20 / 859: -0.342932, 1.317663"
     ]
    },
    {
     "name": "stdout",
     "output_type": "stream",
     "text": [
      "\r21 / 859: -0.389082, 1.354345"
     ]
    },
    {
     "name": "stdout",
     "output_type": "stream",
     "text": [
      "\r22 / 859: -0.348210, 1.379626"
     ]
    },
    {
     "name": "stdout",
     "output_type": "stream",
     "text": [
      "\r23 / 859: -0.420816, 1.413678"
     ]
    },
    {
     "name": "stdout",
     "output_type": "stream",
     "text": [
      "\r24 / 859: -0.414547, 1.440246"
     ]
    },
    {
     "name": "stdout",
     "output_type": "stream",
     "text": [
      "\r25 / 859: -0.454616, 1.468666"
     ]
    },
    {
     "name": "stdout",
     "output_type": "stream",
     "text": [
      "\r26 / 859: -0.418227, 1.458959"
     ]
    },
    {
     "name": "stdout",
     "output_type": "stream",
     "text": [
      "\r27 / 859: -0.427530, 1.482353"
     ]
    },
    {
     "name": "stdout",
     "output_type": "stream",
     "text": [
      "\r28 / 859: -0.437176, 1.485690"
     ]
    },
    {
     "name": "stdout",
     "output_type": "stream",
     "text": [
      "\r29 / 859: -0.450577, 1.501837"
     ]
    },
    {
     "name": "stdout",
     "output_type": "stream",
     "text": [
      "\r30 / 859: -0.446939, 1.516208"
     ]
    },
    {
     "name": "stdout",
     "output_type": "stream",
     "text": [
      "\r31 / 859: -0.395698, 1.495946"
     ]
    },
    {
     "name": "stdout",
     "output_type": "stream",
     "text": [
      "\r32 / 859: -0.447103, 1.506497"
     ]
    },
    {
     "name": "stdout",
     "output_type": "stream",
     "text": [
      "\r33 / 859: -0.440589, 1.515871"
     ]
    },
    {
     "name": "stdout",
     "output_type": "stream",
     "text": [
      "\r34 / 859: -0.434341, 1.528593"
     ]
    },
    {
     "name": "stdout",
     "output_type": "stream",
     "text": [
      "\r35 / 859: -0.438749, 1.523907"
     ]
    },
    {
     "name": "stdout",
     "output_type": "stream",
     "text": [
      "\r36 / 859: -0.389539, 1.522504"
     ]
    },
    {
     "name": "stdout",
     "output_type": "stream",
     "text": [
      "\r37 / 859: -0.400662, 1.499982"
     ]
    },
    {
     "name": "stdout",
     "output_type": "stream",
     "text": [
      "\r38 / 859: -0.346890, 1.483305"
     ]
    },
    {
     "name": "stdout",
     "output_type": "stream",
     "text": [
      "\r39 / 859: -0.308769, 1.480680"
     ]
    },
    {
     "name": "stdout",
     "output_type": "stream",
     "text": [
      "\r40 / 859: -0.317988, 1.455929"
     ]
    },
    {
     "name": "stdout",
     "output_type": "stream",
     "text": [
      "\r41 / 859: -0.270341, 1.400582"
     ]
    },
    {
     "name": "stdout",
     "output_type": "stream",
     "text": [
      "\r42 / 859: -0.269610, 1.371345"
     ]
    },
    {
     "name": "stdout",
     "output_type": "stream",
     "text": [
      "\r43 / 859: -0.217786, 1.342447"
     ]
    },
    {
     "name": "stdout",
     "output_type": "stream",
     "text": [
      "\r44 / 859: -0.152792, 1.305686"
     ]
    },
    {
     "name": "stdout",
     "output_type": "stream",
     "text": [
      "\r45 / 859: -0.154955, 1.266112"
     ]
    },
    {
     "name": "stdout",
     "output_type": "stream",
     "text": [
      "\r46 / 859: -0.121363, 1.247212"
     ]
    },
    {
     "name": "stdout",
     "output_type": "stream",
     "text": [
      "\r47 / 859: -0.067822, 1.227459"
     ]
    },
    {
     "name": "stdout",
     "output_type": "stream",
     "text": [
      "\r48 / 859: -0.032796, 1.194397"
     ]
    },
    {
     "name": "stdout",
     "output_type": "stream",
     "text": [
      "\r49 / 859: -0.050780, 1.166125"
     ]
    },
    {
     "name": "stdout",
     "output_type": "stream",
     "text": [
      "\r50 / 859: -0.005491, 1.144042"
     ]
    },
    {
     "name": "stdout",
     "output_type": "stream",
     "text": [
      "\r51 / 859: 0.001449, 1.121673"
     ]
    },
    {
     "name": "stdout",
     "output_type": "stream",
     "text": [
      "\r52 / 859: 0.022104, 1.107682"
     ]
    },
    {
     "name": "stdout",
     "output_type": "stream",
     "text": [
      "\r53 / 859: 0.030748, 1.087587"
     ]
    },
    {
     "name": "stdout",
     "output_type": "stream",
     "text": [
      "\r54 / 859: 0.053473, 1.077010"
     ]
    },
    {
     "name": "stdout",
     "output_type": "stream",
     "text": [
      "\r55 / 859: 0.050400, 1.048911"
     ]
    },
    {
     "name": "stdout",
     "output_type": "stream",
     "text": [
      "\r56 / 859: 0.049130, 1.034216"
     ]
    },
    {
     "name": "stdout",
     "output_type": "stream",
     "text": [
      "\r57 / 859: 0.041150, 1.029238"
     ]
    },
    {
     "name": "stdout",
     "output_type": "stream",
     "text": [
      "\r58 / 859: 0.068744, 1.019874"
     ]
    },
    {
     "name": "stdout",
     "output_type": "stream",
     "text": [
      "\r59 / 859: 0.052133, 1.002527"
     ]
    },
    {
     "name": "stdout",
     "output_type": "stream",
     "text": [
      "\r60 / 859: 0.085894, 0.989218"
     ]
    },
    {
     "name": "stdout",
     "output_type": "stream",
     "text": [
      "\r61 / 859: 0.044314, 0.983107"
     ]
    },
    {
     "name": "stdout",
     "output_type": "stream",
     "text": [
      "\r62 / 859: 0.096797, 0.977513"
     ]
    },
    {
     "name": "stdout",
     "output_type": "stream",
     "text": [
      "\r63 / 859: 0.102565, 0.961058"
     ]
    },
    {
     "name": "stdout",
     "output_type": "stream",
     "text": [
      "\r64 / 859: 0.112450, 0.961610"
     ]
    },
    {
     "name": "stdout",
     "output_type": "stream",
     "text": [
      "\r65 / 859: 0.102081, 0.948616"
     ]
    },
    {
     "name": "stdout",
     "output_type": "stream",
     "text": [
      "\r66 / 859: 0.079304, 0.936498"
     ]
    },
    {
     "name": "stdout",
     "output_type": "stream",
     "text": [
      "\r67 / 859: 0.054434, 0.940076"
     ]
    },
    {
     "name": "stdout",
     "output_type": "stream",
     "text": [
      "\r68 / 859: 0.067196, 0.926077"
     ]
    },
    {
     "name": "stdout",
     "output_type": "stream",
     "text": [
      "\r69 / 859: 0.084098, 0.920050"
     ]
    },
    {
     "name": "stdout",
     "output_type": "stream",
     "text": [
      "\r70 / 859: 0.075567, 0.913706"
     ]
    },
    {
     "name": "stdout",
     "output_type": "stream",
     "text": [
      "\r71 / 859: 0.063739, 0.917186"
     ]
    },
    {
     "name": "stdout",
     "output_type": "stream",
     "text": [
      "\r72 / 859: 0.081333, 0.904369"
     ]
    },
    {
     "name": "stdout",
     "output_type": "stream",
     "text": [
      "\r73 / 859: 0.045327, 0.901676"
     ]
    },
    {
     "name": "stdout",
     "output_type": "stream",
     "text": [
      "\r74 / 859: 0.070767, 0.892424"
     ]
    },
    {
     "name": "stdout",
     "output_type": "stream",
     "text": [
      "\r75 / 859: 0.066878, 0.888717"
     ]
    },
    {
     "name": "stdout",
     "output_type": "stream",
     "text": [
      "\r76 / 859: 0.059719, 0.875673"
     ]
    },
    {
     "name": "stdout",
     "output_type": "stream",
     "text": [
      "\r77 / 859: 0.030748, 0.875987"
     ]
    },
    {
     "name": "stdout",
     "output_type": "stream",
     "text": [
      "\r78 / 859: 0.045920, 0.863660"
     ]
    },
    {
     "name": "stdout",
     "output_type": "stream",
     "text": [
      "\r79 / 859: 0.064645, 0.857666"
     ]
    },
    {
     "name": "stdout",
     "output_type": "stream",
     "text": [
      "\r80 / 859: 0.050129, 0.846989"
     ]
    },
    {
     "name": "stdout",
     "output_type": "stream",
     "text": [
      "\r81 / 859: 0.037559, 0.842160"
     ]
    },
    {
     "name": "stdout",
     "output_type": "stream",
     "text": [
      "\r82 / 859: 0.074178, 0.827364"
     ]
    },
    {
     "name": "stdout",
     "output_type": "stream",
     "text": [
      "\r83 / 859: 0.053965, 0.820942"
     ]
    },
    {
     "name": "stdout",
     "output_type": "stream",
     "text": [
      "\r84 / 859: 0.048197, 0.805120"
     ]
    },
    {
     "name": "stdout",
     "output_type": "stream",
     "text": [
      "\r85 / 859: 0.035232, 0.804713"
     ]
    },
    {
     "name": "stdout",
     "output_type": "stream",
     "text": [
      "\r86 / 859: 0.060422, 0.793104"
     ]
    },
    {
     "name": "stdout",
     "output_type": "stream",
     "text": [
      "\r87 / 859: 0.034908, 0.786599"
     ]
    },
    {
     "name": "stdout",
     "output_type": "stream",
     "text": [
      "\r88 / 859: 0.034785, 0.776538"
     ]
    },
    {
     "name": "stdout",
     "output_type": "stream",
     "text": [
      "\r89 / 859: 0.029013, 0.769331"
     ]
    },
    {
     "name": "stdout",
     "output_type": "stream",
     "text": [
      "\r90 / 859: 0.035866, 0.768317"
     ]
    },
    {
     "name": "stdout",
     "output_type": "stream",
     "text": [
      "\r91 / 859: 0.044692, 0.759197"
     ]
    },
    {
     "name": "stdout",
     "output_type": "stream",
     "text": [
      "\r92 / 859: 0.013226, 0.750682"
     ]
    },
    {
     "name": "stdout",
     "output_type": "stream",
     "text": [
      "\r93 / 859: 0.027718, 0.739183"
     ]
    },
    {
     "name": "stdout",
     "output_type": "stream",
     "text": [
      "\r94 / 859: 0.005168, 0.739079"
     ]
    },
    {
     "name": "stdout",
     "output_type": "stream",
     "text": [
      "\r95 / 859: 0.040230, 0.730194"
     ]
    },
    {
     "name": "stdout",
     "output_type": "stream",
     "text": [
      "\r96 / 859: 0.016707, 0.727146"
     ]
    },
    {
     "name": "stdout",
     "output_type": "stream",
     "text": [
      "\r97 / 859: 0.009055, 0.719304"
     ]
    },
    {
     "name": "stdout",
     "output_type": "stream",
     "text": [
      "\r98 / 859: 0.030976, 0.713544"
     ]
    },
    {
     "name": "stdout",
     "output_type": "stream",
     "text": [
      "\r99 / 859: 0.006722, 0.704179"
     ]
    },
    {
     "name": "stdout",
     "output_type": "stream",
     "text": [
      "\r100 / 859: 0.012994, 0.706581"
     ]
    },
    {
     "name": "stdout",
     "output_type": "stream",
     "text": [
      "\r101 / 859: 0.001513, 0.697441"
     ]
    },
    {
     "name": "stdout",
     "output_type": "stream",
     "text": [
      "\r102 / 859: 0.020624, 0.700676"
     ]
    },
    {
     "name": "stdout",
     "output_type": "stream",
     "text": [
      "\r103 / 859: 0.022069, 0.687488"
     ]
    },
    {
     "name": "stdout",
     "output_type": "stream",
     "text": [
      "\r104 / 859: -0.000231, 0.681990"
     ]
    },
    {
     "name": "stdout",
     "output_type": "stream",
     "text": [
      "\r105 / 859: -0.004582, 0.686247"
     ]
    },
    {
     "name": "stdout",
     "output_type": "stream",
     "text": [
      "\r106 / 859: 0.001744, 0.682146"
     ]
    },
    {
     "name": "stdout",
     "output_type": "stream",
     "text": [
      "\r107 / 859: -0.016188, 0.689385"
     ]
    },
    {
     "name": "stdout",
     "output_type": "stream",
     "text": [
      "\r108 / 859: -0.013039, 0.688031"
     ]
    },
    {
     "name": "stdout",
     "output_type": "stream",
     "text": [
      "\r109 / 859: -0.028226, 0.689569"
     ]
    },
    {
     "name": "stdout",
     "output_type": "stream",
     "text": [
      "\r110 / 859: -0.029995, 0.691205"
     ]
    },
    {
     "name": "stdout",
     "output_type": "stream",
     "text": [
      "\r111 / 859: -0.036837, 0.694119"
     ]
    },
    {
     "name": "stdout",
     "output_type": "stream",
     "text": [
      "\r112 / 859: -0.049798, 0.699582"
     ]
    },
    {
     "name": "stdout",
     "output_type": "stream",
     "text": [
      "\r113 / 859: -0.048609, 0.705788"
     ]
    },
    {
     "name": "stdout",
     "output_type": "stream",
     "text": [
      "\r114 / 859: -0.055118, 0.709949"
     ]
    },
    {
     "name": "stdout",
     "output_type": "stream",
     "text": [
      "\r115 / 859: -0.067971, 0.714374"
     ]
    },
    {
     "name": "stdout",
     "output_type": "stream",
     "text": [
      "\r116 / 859: -0.070282, 0.720447"
     ]
    },
    {
     "name": "stdout",
     "output_type": "stream",
     "text": [
      "\r117 / 859: -0.084136, 0.725629"
     ]
    },
    {
     "name": "stdout",
     "output_type": "stream",
     "text": [
      "\r118 / 859: -0.096355, 0.732386"
     ]
    },
    {
     "name": "stdout",
     "output_type": "stream",
     "text": [
      "\r119 / 859: -0.096646, 0.732745"
     ]
    },
    {
     "name": "stdout",
     "output_type": "stream",
     "text": [
      "\r120 / 859: -0.113033, 0.735554"
     ]
    },
    {
     "name": "stdout",
     "output_type": "stream",
     "text": [
      "\r121 / 859: -0.108193, 0.734759"
     ]
    },
    {
     "name": "stdout",
     "output_type": "stream",
     "text": [
      "\r122 / 859: -0.114484, 0.737696"
     ]
    },
    {
     "name": "stdout",
     "output_type": "stream",
     "text": [
      "\r123 / 859: -0.104545, 0.734766"
     ]
    },
    {
     "name": "stdout",
     "output_type": "stream",
     "text": [
      "\r124 / 859: -0.123590, 0.733299"
     ]
    },
    {
     "name": "stdout",
     "output_type": "stream",
     "text": [
      "\r125 / 859: -0.125325, 0.727756"
     ]
    },
    {
     "name": "stdout",
     "output_type": "stream",
     "text": [
      "\r126 / 859: -0.128643, 0.728610"
     ]
    },
    {
     "name": "stdout",
     "output_type": "stream",
     "text": [
      "\r127 / 859: -0.124730, 0.725395"
     ]
    },
    {
     "name": "stdout",
     "output_type": "stream",
     "text": [
      "\r128 / 859: -0.127259, 0.724882"
     ]
    },
    {
     "name": "stdout",
     "output_type": "stream",
     "text": [
      "\r129 / 859: -0.131037, 0.720856"
     ]
    },
    {
     "name": "stdout",
     "output_type": "stream",
     "text": [
      "\r130 / 859: -0.126242, 0.722258"
     ]
    },
    {
     "name": "stdout",
     "output_type": "stream",
     "text": [
      "\r131 / 859: -0.134606, 0.719084"
     ]
    },
    {
     "name": "stdout",
     "output_type": "stream",
     "text": [
      "\r132 / 859: -0.130263, 0.715156"
     ]
    },
    {
     "name": "stdout",
     "output_type": "stream",
     "text": [
      "\r133 / 859: -0.133908, 0.719891"
     ]
    },
    {
     "name": "stdout",
     "output_type": "stream",
     "text": [
      "\r134 / 859: -0.133022, 0.711274"
     ]
    },
    {
     "name": "stdout",
     "output_type": "stream",
     "text": [
      "\r135 / 859: -0.129649, 0.710106"
     ]
    },
    {
     "name": "stdout",
     "output_type": "stream",
     "text": [
      "\r136 / 859: -0.130433, 0.711213"
     ]
    },
    {
     "name": "stdout",
     "output_type": "stream",
     "text": [
      "\r137 / 859: -0.136958, 0.709749"
     ]
    },
    {
     "name": "stdout",
     "output_type": "stream",
     "text": [
      "\r138 / 859: -0.141564, 0.708171"
     ]
    },
    {
     "name": "stdout",
     "output_type": "stream",
     "text": [
      "\r139 / 859: -0.130401, 0.702353"
     ]
    },
    {
     "name": "stdout",
     "output_type": "stream",
     "text": [
      "\r140 / 859: -0.138938, 0.702399"
     ]
    },
    {
     "name": "stdout",
     "output_type": "stream",
     "text": [
      "\r141 / 859: -0.143510, 0.693963"
     ]
    },
    {
     "name": "stdout",
     "output_type": "stream",
     "text": [
      "\r142 / 859: -0.130641, 0.692337"
     ]
    },
    {
     "name": "stdout",
     "output_type": "stream",
     "text": [
      "\r143 / 859: -0.136096, 0.695831"
     ]
    },
    {
     "name": "stdout",
     "output_type": "stream",
     "text": [
      "\r144 / 859: -0.131740, 0.687546"
     ]
    },
    {
     "name": "stdout",
     "output_type": "stream",
     "text": [
      "\r145 / 859: -0.130265, 0.679714"
     ]
    },
    {
     "name": "stdout",
     "output_type": "stream",
     "text": [
      "\r146 / 859: -0.118126, 0.676938"
     ]
    },
    {
     "name": "stdout",
     "output_type": "stream",
     "text": [
      "\r147 / 859: -0.134634, 0.674004"
     ]
    },
    {
     "name": "stdout",
     "output_type": "stream",
     "text": [
      "\r148 / 859: -0.108962, 0.670396"
     ]
    },
    {
     "name": "stdout",
     "output_type": "stream",
     "text": [
      "\r149 / 859: -0.117222, 0.665194"
     ]
    },
    {
     "name": "stdout",
     "output_type": "stream",
     "text": [
      "\r150 / 859: -0.104590, 0.666304"
     ]
    },
    {
     "name": "stdout",
     "output_type": "stream",
     "text": [
      "\r151 / 859: -0.108681, 0.658233"
     ]
    },
    {
     "name": "stdout",
     "output_type": "stream",
     "text": [
      "\r152 / 859: -0.114477, 0.656998"
     ]
    },
    {
     "name": "stdout",
     "output_type": "stream",
     "text": [
      "\r153 / 859: -0.096848, 0.656577"
     ]
    },
    {
     "name": "stdout",
     "output_type": "stream",
     "text": [
      "\r154 / 859: -0.112321, 0.666219"
     ]
    },
    {
     "name": "stdout",
     "output_type": "stream",
     "text": [
      "\r155 / 859: -0.139893, 0.668206"
     ]
    },
    {
     "name": "stdout",
     "output_type": "stream",
     "text": [
      "\r156 / 859: -0.129676, 0.683821"
     ]
    },
    {
     "name": "stdout",
     "output_type": "stream",
     "text": [
      "\r157 / 859: -0.137030, 0.706687"
     ]
    },
    {
     "name": "stdout",
     "output_type": "stream",
     "text": [
      "\r158 / 859: -0.159328, 0.720399"
     ]
    },
    {
     "name": "stdout",
     "output_type": "stream",
     "text": [
      "\r159 / 859: -0.171995, 0.734000"
     ]
    },
    {
     "name": "stdout",
     "output_type": "stream",
     "text": [
      "\r160 / 859: -0.179437, 0.742313"
     ]
    },
    {
     "name": "stdout",
     "output_type": "stream",
     "text": [
      "\r161 / 859: -0.201615, 0.757590"
     ]
    },
    {
     "name": "stdout",
     "output_type": "stream",
     "text": [
      "\r162 / 859: -0.207531, 0.767188"
     ]
    },
    {
     "name": "stdout",
     "output_type": "stream",
     "text": [
      "\r163 / 859: -0.205865, 0.768707"
     ]
    },
    {
     "name": "stdout",
     "output_type": "stream",
     "text": [
      "\r164 / 859: -0.212823, 0.777646"
     ]
    },
    {
     "name": "stdout",
     "output_type": "stream",
     "text": [
      "\r165 / 859: -0.219906, 0.778543"
     ]
    },
    {
     "name": "stdout",
     "output_type": "stream",
     "text": [
      "\r166 / 859: -0.215584, 0.762747"
     ]
    },
    {
     "name": "stdout",
     "output_type": "stream",
     "text": [
      "\r167 / 859: -0.201152, 0.763578"
     ]
    },
    {
     "name": "stdout",
     "output_type": "stream",
     "text": [
      "\r168 / 859: -0.206179, 0.755896"
     ]
    },
    {
     "name": "stdout",
     "output_type": "stream",
     "text": [
      "\r169 / 859: -0.200258, 0.749144"
     ]
    },
    {
     "name": "stdout",
     "output_type": "stream",
     "text": [
      "\r170 / 859: -0.197467, 0.744631"
     ]
    },
    {
     "name": "stdout",
     "output_type": "stream",
     "text": [
      "\r171 / 859: -0.192975, 0.745449"
     ]
    },
    {
     "name": "stdout",
     "output_type": "stream",
     "text": [
      "\r172 / 859: -0.193363, 0.743829"
     ]
    },
    {
     "name": "stdout",
     "output_type": "stream",
     "text": [
      "\r173 / 859: -0.201514, 0.729302"
     ]
    },
    {
     "name": "stdout",
     "output_type": "stream",
     "text": [
      "\r174 / 859: -0.186408, 0.729895"
     ]
    },
    {
     "name": "stdout",
     "output_type": "stream",
     "text": [
      "\r175 / 859: -0.180090, 0.715050"
     ]
    },
    {
     "name": "stdout",
     "output_type": "stream",
     "text": [
      "\r176 / 859: -0.168160, 0.706345"
     ]
    },
    {
     "name": "stdout",
     "output_type": "stream",
     "text": [
      "\r177 / 859: -0.173883, 0.706605"
     ]
    },
    {
     "name": "stdout",
     "output_type": "stream",
     "text": [
      "\r178 / 859: -0.170497, 0.695922"
     ]
    },
    {
     "name": "stdout",
     "output_type": "stream",
     "text": [
      "\r179 / 859: -0.167258, 0.686612"
     ]
    },
    {
     "name": "stdout",
     "output_type": "stream",
     "text": [
      "\r180 / 859: -0.150542, 0.677535"
     ]
    },
    {
     "name": "stdout",
     "output_type": "stream",
     "text": [
      "\r181 / 859: -0.155457, 0.668145"
     ]
    },
    {
     "name": "stdout",
     "output_type": "stream",
     "text": [
      "\r182 / 859: -0.145844, 0.669232"
     ]
    },
    {
     "name": "stdout",
     "output_type": "stream",
     "text": [
      "\r183 / 859: -0.138067, 0.667642"
     ]
    },
    {
     "name": "stdout",
     "output_type": "stream",
     "text": [
      "\r184 / 859: -0.136410, 0.660180"
     ]
    },
    {
     "name": "stdout",
     "output_type": "stream",
     "text": [
      "\r185 / 859: -0.137598, 0.665762"
     ]
    },
    {
     "name": "stdout",
     "output_type": "stream",
     "text": [
      "\r186 / 859: -0.144011, 0.661524"
     ]
    },
    {
     "name": "stdout",
     "output_type": "stream",
     "text": [
      "\r187 / 859: -0.152108, 0.669881"
     ]
    },
    {
     "name": "stdout",
     "output_type": "stream",
     "text": [
      "\r188 / 859: -0.152323, 0.677486"
     ]
    },
    {
     "name": "stdout",
     "output_type": "stream",
     "text": [
      "\r189 / 859: -0.171292, 0.684461"
     ]
    },
    {
     "name": "stdout",
     "output_type": "stream",
     "text": [
      "\r190 / 859: -0.184457, 0.698942"
     ]
    },
    {
     "name": "stdout",
     "output_type": "stream",
     "text": [
      "\r191 / 859: -0.191514, 0.713532"
     ]
    },
    {
     "name": "stdout",
     "output_type": "stream",
     "text": [
      "\r192 / 859: -0.199014, 0.726814"
     ]
    },
    {
     "name": "stdout",
     "output_type": "stream",
     "text": [
      "\r193 / 859: -0.201733, 0.723960"
     ]
    },
    {
     "name": "stdout",
     "output_type": "stream",
     "text": [
      "\r194 / 859: -0.217589, 0.737247"
     ]
    },
    {
     "name": "stdout",
     "output_type": "stream",
     "text": [
      "\r195 / 859: -0.217497, 0.748496"
     ]
    },
    {
     "name": "stdout",
     "output_type": "stream",
     "text": [
      "\r196 / 859: -0.231411, 0.744828"
     ]
    },
    {
     "name": "stdout",
     "output_type": "stream",
     "text": [
      "\r197 / 859: -0.229203, 0.747066"
     ]
    },
    {
     "name": "stdout",
     "output_type": "stream",
     "text": [
      "\r198 / 859: -0.236417, 0.745692"
     ]
    },
    {
     "name": "stdout",
     "output_type": "stream",
     "text": [
      "\r199 / 859: -0.223536, 0.740939"
     ]
    },
    {
     "name": "stdout",
     "output_type": "stream",
     "text": [
      "\r200 / 859: -0.226464, 0.731952"
     ]
    },
    {
     "name": "stdout",
     "output_type": "stream",
     "text": [
      "\r201 / 859: -0.236468, 0.731622"
     ]
    },
    {
     "name": "stdout",
     "output_type": "stream",
     "text": [
      "\r202 / 859: -0.218036, 0.729882"
     ]
    },
    {
     "name": "stdout",
     "output_type": "stream",
     "text": [
      "\r203 / 859: -0.219219, 0.722032"
     ]
    },
    {
     "name": "stdout",
     "output_type": "stream",
     "text": [
      "\r204 / 859: -0.209640, 0.710909"
     ]
    },
    {
     "name": "stdout",
     "output_type": "stream",
     "text": [
      "\r205 / 859: -0.198830, 0.704416"
     ]
    },
    {
     "name": "stdout",
     "output_type": "stream",
     "text": [
      "\r206 / 859: -0.212179, 0.701764"
     ]
    },
    {
     "name": "stdout",
     "output_type": "stream",
     "text": [
      "\r207 / 859: -0.206924, 0.695038"
     ]
    },
    {
     "name": "stdout",
     "output_type": "stream",
     "text": [
      "\r208 / 859: -0.207119, 0.695462"
     ]
    },
    {
     "name": "stdout",
     "output_type": "stream",
     "text": [
      "\r209 / 859: -0.198354, 0.693374"
     ]
    },
    {
     "name": "stdout",
     "output_type": "stream",
     "text": [
      "\r210 / 859: -0.199888, 0.688837"
     ]
    },
    {
     "name": "stdout",
     "output_type": "stream",
     "text": [
      "\r211 / 859: -0.205098, 0.692811"
     ]
    },
    {
     "name": "stdout",
     "output_type": "stream",
     "text": [
      "\r212 / 859: -0.200587, 0.694918"
     ]
    },
    {
     "name": "stdout",
     "output_type": "stream",
     "text": [
      "\r213 / 859: -0.223195, 0.690889"
     ]
    },
    {
     "name": "stdout",
     "output_type": "stream",
     "text": [
      "\r214 / 859: -0.217559, 0.686605"
     ]
    },
    {
     "name": "stdout",
     "output_type": "stream",
     "text": [
      "\r215 / 859: -0.210718, 0.689695"
     ]
    },
    {
     "name": "stdout",
     "output_type": "stream",
     "text": [
      "\r216 / 859: -0.212095, 0.680282"
     ]
    },
    {
     "name": "stdout",
     "output_type": "stream",
     "text": [
      "\r217 / 859: -0.210470, 0.677881"
     ]
    },
    {
     "name": "stdout",
     "output_type": "stream",
     "text": [
      "\r218 / 859: -0.206709, 0.669815"
     ]
    },
    {
     "name": "stdout",
     "output_type": "stream",
     "text": [
      "\r219 / 859: -0.204589, 0.663859"
     ]
    },
    {
     "name": "stdout",
     "output_type": "stream",
     "text": [
      "\r220 / 859: -0.197981, 0.657470"
     ]
    },
    {
     "name": "stdout",
     "output_type": "stream",
     "text": [
      "\r221 / 859: -0.183196, 0.641270"
     ]
    },
    {
     "name": "stdout",
     "output_type": "stream",
     "text": [
      "\r222 / 859: -0.168222, 0.631392"
     ]
    },
    {
     "name": "stdout",
     "output_type": "stream",
     "text": [
      "\r223 / 859: -0.173362, 0.627075"
     ]
    },
    {
     "name": "stdout",
     "output_type": "stream",
     "text": [
      "\r224 / 859: -0.164882, 0.637262"
     ]
    },
    {
     "name": "stdout",
     "output_type": "stream",
     "text": [
      "\r225 / 859: -0.159831, 0.641858"
     ]
    },
    {
     "name": "stdout",
     "output_type": "stream",
     "text": [
      "\r226 / 859: -0.169151, 0.653962"
     ]
    },
    {
     "name": "stdout",
     "output_type": "stream",
     "text": [
      "\r227 / 859: -0.184679, 0.668099"
     ]
    },
    {
     "name": "stdout",
     "output_type": "stream",
     "text": [
      "\r228 / 859: -0.205593, 0.694700"
     ]
    },
    {
     "name": "stdout",
     "output_type": "stream",
     "text": [
      "\r229 / 859: -0.236445, 0.718305"
     ]
    },
    {
     "name": "stdout",
     "output_type": "stream",
     "text": [
      "\r230 / 859: -0.248434, 0.735630"
     ]
    },
    {
     "name": "stdout",
     "output_type": "stream",
     "text": [
      "\r231 / 859: -0.261126, 0.748987"
     ]
    },
    {
     "name": "stdout",
     "output_type": "stream",
     "text": [
      "\r232 / 859: -0.266933, 0.762185"
     ]
    },
    {
     "name": "stdout",
     "output_type": "stream",
     "text": [
      "\r233 / 859: -0.266713, 0.761515"
     ]
    },
    {
     "name": "stdout",
     "output_type": "stream",
     "text": [
      "\r234 / 859: -0.288351, 0.761161"
     ]
    },
    {
     "name": "stdout",
     "output_type": "stream",
     "text": [
      "\r235 / 859: -0.278472, 0.759612"
     ]
    },
    {
     "name": "stdout",
     "output_type": "stream",
     "text": [
      "\r236 / 859: -0.268036, 0.754200"
     ]
    },
    {
     "name": "stdout",
     "output_type": "stream",
     "text": [
      "\r237 / 859: -0.260223, 0.757405"
     ]
    },
    {
     "name": "stdout",
     "output_type": "stream",
     "text": [
      "\r238 / 859: -0.265859, 0.751846"
     ]
    },
    {
     "name": "stdout",
     "output_type": "stream",
     "text": [
      "\r239 / 859: -0.291667, 0.750099"
     ]
    },
    {
     "name": "stdout",
     "output_type": "stream",
     "text": [
      "\r240 / 859: -0.271742, 0.747860"
     ]
    },
    {
     "name": "stdout",
     "output_type": "stream",
     "text": [
      "\r241 / 859: -0.277268, 0.755654"
     ]
    },
    {
     "name": "stdout",
     "output_type": "stream",
     "text": [
      "\r242 / 859: -0.265892, 0.749257"
     ]
    },
    {
     "name": "stdout",
     "output_type": "stream",
     "text": [
      "\r243 / 859: -0.267371, 0.753587"
     ]
    },
    {
     "name": "stdout",
     "output_type": "stream",
     "text": [
      "\r244 / 859: -0.279784, 0.759521"
     ]
    },
    {
     "name": "stdout",
     "output_type": "stream",
     "text": [
      "\r245 / 859: -0.281731, 0.756517"
     ]
    },
    {
     "name": "stdout",
     "output_type": "stream",
     "text": [
      "\r246 / 859: -0.261107, 0.759002"
     ]
    },
    {
     "name": "stdout",
     "output_type": "stream",
     "text": [
      "\r247 / 859: -0.295783, 0.768881"
     ]
    },
    {
     "name": "stdout",
     "output_type": "stream",
     "text": [
      "\r248 / 859: -0.291968, 0.764022"
     ]
    },
    {
     "name": "stdout",
     "output_type": "stream",
     "text": [
      "\r249 / 859: -0.289117, 0.759748"
     ]
    },
    {
     "name": "stdout",
     "output_type": "stream",
     "text": [
      "\r250 / 859: -0.289915, 0.773314"
     ]
    },
    {
     "name": "stdout",
     "output_type": "stream",
     "text": [
      "\r251 / 859: -0.308521, 0.765217"
     ]
    },
    {
     "name": "stdout",
     "output_type": "stream",
     "text": [
      "\r252 / 859: -0.290734, 0.759643"
     ]
    },
    {
     "name": "stdout",
     "output_type": "stream",
     "text": [
      "\r253 / 859: -0.288305, 0.762935"
     ]
    },
    {
     "name": "stdout",
     "output_type": "stream",
     "text": [
      "\r254 / 859: -0.287556, 0.756171"
     ]
    },
    {
     "name": "stdout",
     "output_type": "stream",
     "text": [
      "\r255 / 859: -0.276056, 0.758696"
     ]
    },
    {
     "name": "stdout",
     "output_type": "stream",
     "text": [
      "\r256 / 859: -0.295738, 0.756931"
     ]
    },
    {
     "name": "stdout",
     "output_type": "stream",
     "text": [
      "\r257 / 859: -0.258150, 0.754193"
     ]
    },
    {
     "name": "stdout",
     "output_type": "stream",
     "text": [
      "\r258 / 859: -0.295325, 0.751448"
     ]
    },
    {
     "name": "stdout",
     "output_type": "stream",
     "text": [
      "\r259 / 859: -0.280629, 0.747177"
     ]
    },
    {
     "name": "stdout",
     "output_type": "stream",
     "text": [
      "\r260 / 859: -0.271915, 0.745341"
     ]
    },
    {
     "name": "stdout",
     "output_type": "stream",
     "text": [
      "\r261 / 859: -0.270405, 0.748822"
     ]
    },
    {
     "name": "stdout",
     "output_type": "stream",
     "text": [
      "\r262 / 859: -0.282224, 0.737820"
     ]
    },
    {
     "name": "stdout",
     "output_type": "stream",
     "text": [
      "\r263 / 859: -0.279211, 0.744208"
     ]
    },
    {
     "name": "stdout",
     "output_type": "stream",
     "text": [
      "\r264 / 859: -0.276167, 0.748536"
     ]
    },
    {
     "name": "stdout",
     "output_type": "stream",
     "text": [
      "\r265 / 859: -0.269418, 0.750701"
     ]
    },
    {
     "name": "stdout",
     "output_type": "stream",
     "text": [
      "\r266 / 859: -0.281948, 0.749478"
     ]
    },
    {
     "name": "stdout",
     "output_type": "stream",
     "text": [
      "\r267 / 859: -0.287921, 0.744027"
     ]
    },
    {
     "name": "stdout",
     "output_type": "stream",
     "text": [
      "\r268 / 859: -0.295429, 0.748443"
     ]
    },
    {
     "name": "stdout",
     "output_type": "stream",
     "text": [
      "\r269 / 859: -0.278604, 0.761138"
     ]
    },
    {
     "name": "stdout",
     "output_type": "stream",
     "text": [
      "\r270 / 859: -0.289272, 0.758647"
     ]
    },
    {
     "name": "stdout",
     "output_type": "stream",
     "text": [
      "\r271 / 859: -0.286680, 0.755911"
     ]
    },
    {
     "name": "stdout",
     "output_type": "stream",
     "text": [
      "\r272 / 859: -0.291760, 0.756502"
     ]
    },
    {
     "name": "stdout",
     "output_type": "stream",
     "text": [
      "\r273 / 859: -0.277313, 0.757194"
     ]
    },
    {
     "name": "stdout",
     "output_type": "stream",
     "text": [
      "\r274 / 859: -0.289187, 0.754773"
     ]
    },
    {
     "name": "stdout",
     "output_type": "stream",
     "text": [
      "\r275 / 859: -0.291243, 0.763904"
     ]
    },
    {
     "name": "stdout",
     "output_type": "stream",
     "text": [
      "\r276 / 859: -0.300982, 0.766524"
     ]
    },
    {
     "name": "stdout",
     "output_type": "stream",
     "text": [
      "\r277 / 859: -0.300590, 0.759177"
     ]
    },
    {
     "name": "stdout",
     "output_type": "stream",
     "text": [
      "\r278 / 859: -0.283080, 0.755045"
     ]
    },
    {
     "name": "stdout",
     "output_type": "stream",
     "text": [
      "\r279 / 859: -0.290505, 0.760658"
     ]
    },
    {
     "name": "stdout",
     "output_type": "stream",
     "text": [
      "\r280 / 859: -0.294324, 0.767695"
     ]
    },
    {
     "name": "stdout",
     "output_type": "stream",
     "text": [
      "\r281 / 859: -0.296687, 0.764959"
     ]
    },
    {
     "name": "stdout",
     "output_type": "stream",
     "text": [
      "\r282 / 859: -0.300891, 0.764341"
     ]
    },
    {
     "name": "stdout",
     "output_type": "stream",
     "text": [
      "\r283 / 859: -0.298760, 0.763098"
     ]
    },
    {
     "name": "stdout",
     "output_type": "stream",
     "text": [
      "\r284 / 859: -0.285728, 0.765046"
     ]
    },
    {
     "name": "stdout",
     "output_type": "stream",
     "text": [
      "\r285 / 859: -0.292157, 0.764903"
     ]
    },
    {
     "name": "stdout",
     "output_type": "stream",
     "text": [
      "\r286 / 859: -0.292255, 0.764912"
     ]
    },
    {
     "name": "stdout",
     "output_type": "stream",
     "text": [
      "\r287 / 859: -0.292890, 0.761238"
     ]
    },
    {
     "name": "stdout",
     "output_type": "stream",
     "text": [
      "\r288 / 859: -0.301805, 0.761342"
     ]
    },
    {
     "name": "stdout",
     "output_type": "stream",
     "text": [
      "\r289 / 859: -0.294602, 0.761531"
     ]
    },
    {
     "name": "stdout",
     "output_type": "stream",
     "text": [
      "\r290 / 859: -0.296148, 0.762770"
     ]
    },
    {
     "name": "stdout",
     "output_type": "stream",
     "text": [
      "\r291 / 859: -0.299240, 0.765746"
     ]
    },
    {
     "name": "stdout",
     "output_type": "stream",
     "text": [
      "\r292 / 859: -0.286265, 0.760677"
     ]
    },
    {
     "name": "stdout",
     "output_type": "stream",
     "text": [
      "\r293 / 859: -0.281247, 0.762541"
     ]
    },
    {
     "name": "stdout",
     "output_type": "stream",
     "text": [
      "\r294 / 859: -0.290190, 0.753443"
     ]
    },
    {
     "name": "stdout",
     "output_type": "stream",
     "text": [
      "\r295 / 859: -0.283498, 0.757810"
     ]
    },
    {
     "name": "stdout",
     "output_type": "stream",
     "text": [
      "\r296 / 859: -0.294226, 0.760533"
     ]
    },
    {
     "name": "stdout",
     "output_type": "stream",
     "text": [
      "\r297 / 859: -0.308186, 0.751227"
     ]
    },
    {
     "name": "stdout",
     "output_type": "stream",
     "text": [
      "\r298 / 859: -0.276370, 0.743738"
     ]
    },
    {
     "name": "stdout",
     "output_type": "stream",
     "text": [
      "\r299 / 859: -0.272982, 0.734874"
     ]
    },
    {
     "name": "stdout",
     "output_type": "stream",
     "text": [
      "\r300 / 859: -0.276587, 0.754535"
     ]
    },
    {
     "name": "stdout",
     "output_type": "stream",
     "text": [
      "\r301 / 859: -0.280905, 0.750364"
     ]
    },
    {
     "name": "stdout",
     "output_type": "stream",
     "text": [
      "\r302 / 859: -0.265312, 0.746069"
     ]
    },
    {
     "name": "stdout",
     "output_type": "stream",
     "text": [
      "\r303 / 859: -0.258511, 0.740338"
     ]
    },
    {
     "name": "stdout",
     "output_type": "stream",
     "text": [
      "\r304 / 859: -0.269382, 0.736842"
     ]
    },
    {
     "name": "stdout",
     "output_type": "stream",
     "text": [
      "\r305 / 859: -0.281999, 0.743464"
     ]
    },
    {
     "name": "stdout",
     "output_type": "stream",
     "text": [
      "\r306 / 859: -0.280813, 0.744885"
     ]
    },
    {
     "name": "stdout",
     "output_type": "stream",
     "text": [
      "\r307 / 859: -0.261008, 0.728466"
     ]
    },
    {
     "name": "stdout",
     "output_type": "stream",
     "text": [
      "\r308 / 859: -0.286970, 0.728439"
     ]
    },
    {
     "name": "stdout",
     "output_type": "stream",
     "text": [
      "\r309 / 859: -0.266605, 0.729177"
     ]
    },
    {
     "name": "stdout",
     "output_type": "stream",
     "text": [
      "\r310 / 859: -0.255934, 0.731219"
     ]
    },
    {
     "name": "stdout",
     "output_type": "stream",
     "text": [
      "\r311 / 859: -0.256123, 0.726690"
     ]
    },
    {
     "name": "stdout",
     "output_type": "stream",
     "text": [
      "\r312 / 859: -0.259458, 0.729288"
     ]
    },
    {
     "name": "stdout",
     "output_type": "stream",
     "text": [
      "\r313 / 859: -0.271279, 0.731914"
     ]
    },
    {
     "name": "stdout",
     "output_type": "stream",
     "text": [
      "\r314 / 859: -0.262403, 0.726615"
     ]
    },
    {
     "name": "stdout",
     "output_type": "stream",
     "text": [
      "\r315 / 859: -0.276087, 0.732132"
     ]
    },
    {
     "name": "stdout",
     "output_type": "stream",
     "text": [
      "\r316 / 859: -0.237370, 0.714243"
     ]
    },
    {
     "name": "stdout",
     "output_type": "stream",
     "text": [
      "\r317 / 859: -0.260566, 0.712907"
     ]
    },
    {
     "name": "stdout",
     "output_type": "stream",
     "text": [
      "\r318 / 859: -0.259313, 0.726421"
     ]
    },
    {
     "name": "stdout",
     "output_type": "stream",
     "text": [
      "\r319 / 859: -0.234877, 0.713758"
     ]
    },
    {
     "name": "stdout",
     "output_type": "stream",
     "text": [
      "\r320 / 859: -0.246860, 0.714487"
     ]
    },
    {
     "name": "stdout",
     "output_type": "stream",
     "text": [
      "\r321 / 859: -0.254380, 0.722436"
     ]
    },
    {
     "name": "stdout",
     "output_type": "stream",
     "text": [
      "\r322 / 859: -0.254431, 0.727754"
     ]
    },
    {
     "name": "stdout",
     "output_type": "stream",
     "text": [
      "\r323 / 859: -0.245279, 0.724340"
     ]
    },
    {
     "name": "stdout",
     "output_type": "stream",
     "text": [
      "\r324 / 859: -0.227499, 0.723245"
     ]
    },
    {
     "name": "stdout",
     "output_type": "stream",
     "text": [
      "\r325 / 859: -0.196999, 0.729927"
     ]
    },
    {
     "name": "stdout",
     "output_type": "stream",
     "text": [
      "\r326 / 859: -0.229817, 0.711829"
     ]
    },
    {
     "name": "stdout",
     "output_type": "stream",
     "text": [
      "\r327 / 859: -0.228664, 0.715600"
     ]
    },
    {
     "name": "stdout",
     "output_type": "stream",
     "text": [
      "\r328 / 859: -0.196333, 0.706668"
     ]
    },
    {
     "name": "stdout",
     "output_type": "stream",
     "text": [
      "\r329 / 859: -0.207460, 0.710408"
     ]
    },
    {
     "name": "stdout",
     "output_type": "stream",
     "text": [
      "\r330 / 859: -0.221292, 0.716552"
     ]
    },
    {
     "name": "stdout",
     "output_type": "stream",
     "text": [
      "\r331 / 859: -0.233683, 0.716443"
     ]
    },
    {
     "name": "stdout",
     "output_type": "stream",
     "text": [
      "\r332 / 859: -0.214770, 0.726559"
     ]
    },
    {
     "name": "stdout",
     "output_type": "stream",
     "text": [
      "\r333 / 859: -0.189594, 0.711100"
     ]
    },
    {
     "name": "stdout",
     "output_type": "stream",
     "text": [
      "\r334 / 859: -0.165548, 0.728765"
     ]
    },
    {
     "name": "stdout",
     "output_type": "stream",
     "text": [
      "\r335 / 859: -0.187604, 0.707529"
     ]
    },
    {
     "name": "stdout",
     "output_type": "stream",
     "text": [
      "\r336 / 859: -0.200639, 0.693848"
     ]
    },
    {
     "name": "stdout",
     "output_type": "stream",
     "text": [
      "\r337 / 859: -0.182082, 0.697861"
     ]
    },
    {
     "name": "stdout",
     "output_type": "stream",
     "text": [
      "\r338 / 859: -0.182309, 0.722751"
     ]
    },
    {
     "name": "stdout",
     "output_type": "stream",
     "text": [
      "\r339 / 859: -0.201088, 0.712080"
     ]
    },
    {
     "name": "stdout",
     "output_type": "stream",
     "text": [
      "\r340 / 859: -0.164171, 0.704105"
     ]
    },
    {
     "name": "stdout",
     "output_type": "stream",
     "text": [
      "\r341 / 859: -0.170383, 0.707209"
     ]
    },
    {
     "name": "stdout",
     "output_type": "stream",
     "text": [
      "\r342 / 859: -0.199788, 0.709126"
     ]
    },
    {
     "name": "stdout",
     "output_type": "stream",
     "text": [
      "\r343 / 859: -0.177789, 0.729316"
     ]
    },
    {
     "name": "stdout",
     "output_type": "stream",
     "text": [
      "\r344 / 859: -0.165553, 0.719875"
     ]
    },
    {
     "name": "stdout",
     "output_type": "stream",
     "text": [
      "\r345 / 859: -0.145219, 0.719525"
     ]
    },
    {
     "name": "stdout",
     "output_type": "stream",
     "text": [
      "\r346 / 859: -0.174261, 0.721202"
     ]
    },
    {
     "name": "stdout",
     "output_type": "stream",
     "text": [
      "\r347 / 859: -0.150414, 0.719522"
     ]
    },
    {
     "name": "stdout",
     "output_type": "stream",
     "text": [
      "\r348 / 859: -0.150491, 0.739119"
     ]
    },
    {
     "name": "stdout",
     "output_type": "stream",
     "text": [
      "\r349 / 859: -0.123493, 0.729350"
     ]
    },
    {
     "name": "stdout",
     "output_type": "stream",
     "text": [
      "\r350 / 859: -0.115642, 0.731289"
     ]
    },
    {
     "name": "stdout",
     "output_type": "stream",
     "text": [
      "\r351 / 859: -0.141287, 0.735087"
     ]
    },
    {
     "name": "stdout",
     "output_type": "stream",
     "text": [
      "\r352 / 859: -0.164378, 0.739090"
     ]
    },
    {
     "name": "stdout",
     "output_type": "stream",
     "text": [
      "\r353 / 859: -0.151377, 0.746054"
     ]
    },
    {
     "name": "stdout",
     "output_type": "stream",
     "text": [
      "\r354 / 859: -0.138868, 0.721988"
     ]
    },
    {
     "name": "stdout",
     "output_type": "stream",
     "text": [
      "\r355 / 859: -0.151245, 0.755092"
     ]
    },
    {
     "name": "stdout",
     "output_type": "stream",
     "text": [
      "\r356 / 859: -0.128722, 0.748400"
     ]
    },
    {
     "name": "stdout",
     "output_type": "stream",
     "text": [
      "\r357 / 859: -0.160159, 0.765630"
     ]
    },
    {
     "name": "stdout",
     "output_type": "stream",
     "text": [
      "\r358 / 859: -0.122770, 0.742896"
     ]
    },
    {
     "name": "stdout",
     "output_type": "stream",
     "text": [
      "\r359 / 859: -0.107833, 0.762299"
     ]
    },
    {
     "name": "stdout",
     "output_type": "stream",
     "text": [
      "\r360 / 859: -0.113532, 0.750326"
     ]
    },
    {
     "name": "stdout",
     "output_type": "stream",
     "text": [
      "\r361 / 859: -0.134239, 0.765639"
     ]
    },
    {
     "name": "stdout",
     "output_type": "stream",
     "text": [
      "\r362 / 859: -0.116393, 0.761062"
     ]
    },
    {
     "name": "stdout",
     "output_type": "stream",
     "text": [
      "\r363 / 859: -0.097107, 0.768919"
     ]
    },
    {
     "name": "stdout",
     "output_type": "stream",
     "text": [
      "\r364 / 859: -0.140376, 0.779319"
     ]
    },
    {
     "name": "stdout",
     "output_type": "stream",
     "text": [
      "\r365 / 859: -0.136866, 0.780982"
     ]
    },
    {
     "name": "stdout",
     "output_type": "stream",
     "text": [
      "\r366 / 859: -0.110925, 0.787090"
     ]
    },
    {
     "name": "stdout",
     "output_type": "stream",
     "text": [
      "\r367 / 859: -0.091392, 0.781757"
     ]
    },
    {
     "name": "stdout",
     "output_type": "stream",
     "text": [
      "\r368 / 859: -0.119657, 0.783703"
     ]
    },
    {
     "name": "stdout",
     "output_type": "stream",
     "text": [
      "\r369 / 859: -0.138468, 0.790561"
     ]
    },
    {
     "name": "stdout",
     "output_type": "stream",
     "text": [
      "\r370 / 859: -0.106421, 0.776038"
     ]
    },
    {
     "name": "stdout",
     "output_type": "stream",
     "text": [
      "\r371 / 859: -0.098914, 0.783762"
     ]
    },
    {
     "name": "stdout",
     "output_type": "stream",
     "text": [
      "\r372 / 859: -0.138004, 0.794165"
     ]
    },
    {
     "name": "stdout",
     "output_type": "stream",
     "text": [
      "\r373 / 859: -0.102072, 0.774955"
     ]
    },
    {
     "name": "stdout",
     "output_type": "stream",
     "text": [
      "\r374 / 859: -0.122346, 0.800901"
     ]
    },
    {
     "name": "stdout",
     "output_type": "stream",
     "text": [
      "\r375 / 859: -0.114283, 0.804813"
     ]
    },
    {
     "name": "stdout",
     "output_type": "stream",
     "text": [
      "\r376 / 859: -0.082816, 0.791300"
     ]
    },
    {
     "name": "stdout",
     "output_type": "stream",
     "text": [
      "\r377 / 859: -0.114226, 0.765734"
     ]
    },
    {
     "name": "stdout",
     "output_type": "stream",
     "text": [
      "\r378 / 859: -0.119766, 0.764299"
     ]
    },
    {
     "name": "stdout",
     "output_type": "stream",
     "text": [
      "\r379 / 859: -0.101800, 0.751801"
     ]
    },
    {
     "name": "stdout",
     "output_type": "stream",
     "text": [
      "\r380 / 859: -0.115183, 0.751494"
     ]
    },
    {
     "name": "stdout",
     "output_type": "stream",
     "text": [
      "\r381 / 859: -0.091845, 0.739435"
     ]
    },
    {
     "name": "stdout",
     "output_type": "stream",
     "text": [
      "\r382 / 859: -0.101337, 0.743423"
     ]
    },
    {
     "name": "stdout",
     "output_type": "stream",
     "text": [
      "\r383 / 859: -0.112278, 0.743484"
     ]
    },
    {
     "name": "stdout",
     "output_type": "stream",
     "text": [
      "\r384 / 859: -0.151887, 0.736236"
     ]
    },
    {
     "name": "stdout",
     "output_type": "stream",
     "text": [
      "\r385 / 859: -0.093933, 0.732544"
     ]
    },
    {
     "name": "stdout",
     "output_type": "stream",
     "text": [
      "\r386 / 859: -0.122495, 0.733959"
     ]
    },
    {
     "name": "stdout",
     "output_type": "stream",
     "text": [
      "\r387 / 859: -0.104320, 0.728368"
     ]
    },
    {
     "name": "stdout",
     "output_type": "stream",
     "text": [
      "\r388 / 859: -0.111699, 0.738703"
     ]
    },
    {
     "name": "stdout",
     "output_type": "stream",
     "text": [
      "\r389 / 859: -0.092476, 0.710232"
     ]
    },
    {
     "name": "stdout",
     "output_type": "stream",
     "text": [
      "\r390 / 859: -0.094953, 0.707931"
     ]
    },
    {
     "name": "stdout",
     "output_type": "stream",
     "text": [
      "\r391 / 859: -0.115734, 0.705631"
     ]
    },
    {
     "name": "stdout",
     "output_type": "stream",
     "text": [
      "\r392 / 859: -0.107522, 0.713371"
     ]
    },
    {
     "name": "stdout",
     "output_type": "stream",
     "text": [
      "\r393 / 859: -0.101955, 0.714076"
     ]
    },
    {
     "name": "stdout",
     "output_type": "stream",
     "text": [
      "\r394 / 859: -0.117850, 0.692300"
     ]
    },
    {
     "name": "stdout",
     "output_type": "stream",
     "text": [
      "\r395 / 859: -0.098175, 0.678551"
     ]
    },
    {
     "name": "stdout",
     "output_type": "stream",
     "text": [
      "\r396 / 859: -0.099334, 0.670542"
     ]
    },
    {
     "name": "stdout",
     "output_type": "stream",
     "text": [
      "\r397 / 859: -0.091645, 0.688767"
     ]
    },
    {
     "name": "stdout",
     "output_type": "stream",
     "text": [
      "\r398 / 859: -0.093364, 0.675374"
     ]
    },
    {
     "name": "stdout",
     "output_type": "stream",
     "text": [
      "\r399 / 859: -0.101654, 0.662908"
     ]
    },
    {
     "name": "stdout",
     "output_type": "stream",
     "text": [
      "\r400 / 859: -0.086255, 0.666727"
     ]
    },
    {
     "name": "stdout",
     "output_type": "stream",
     "text": [
      "\r401 / 859: -0.109902, 0.650830"
     ]
    },
    {
     "name": "stdout",
     "output_type": "stream",
     "text": [
      "\r402 / 859: -0.102530, 0.656362"
     ]
    },
    {
     "name": "stdout",
     "output_type": "stream",
     "text": [
      "\r403 / 859: -0.122811, 0.663650"
     ]
    },
    {
     "name": "stdout",
     "output_type": "stream",
     "text": [
      "\r404 / 859: -0.108832, 0.651036"
     ]
    },
    {
     "name": "stdout",
     "output_type": "stream",
     "text": [
      "\r405 / 859: -0.089821, 0.639998"
     ]
    },
    {
     "name": "stdout",
     "output_type": "stream",
     "text": [
      "\r406 / 859: -0.092531, 0.633639"
     ]
    },
    {
     "name": "stdout",
     "output_type": "stream",
     "text": [
      "\r407 / 859: -0.114264, 0.634982"
     ]
    },
    {
     "name": "stdout",
     "output_type": "stream",
     "text": [
      "\r408 / 859: -0.116569, 0.643166"
     ]
    },
    {
     "name": "stdout",
     "output_type": "stream",
     "text": [
      "\r409 / 859: -0.095363, 0.646655"
     ]
    },
    {
     "name": "stdout",
     "output_type": "stream",
     "text": [
      "\r410 / 859: -0.114623, 0.646676"
     ]
    },
    {
     "name": "stdout",
     "output_type": "stream",
     "text": [
      "\r411 / 859: -0.093856, 0.641131"
     ]
    },
    {
     "name": "stdout",
     "output_type": "stream",
     "text": [
      "\r412 / 859: -0.082821, 0.643219"
     ]
    },
    {
     "name": "stdout",
     "output_type": "stream",
     "text": [
      "\r413 / 859: -0.107483, 0.628323"
     ]
    },
    {
     "name": "stdout",
     "output_type": "stream",
     "text": [
      "\r414 / 859: -0.109581, 0.636179"
     ]
    },
    {
     "name": "stdout",
     "output_type": "stream",
     "text": [
      "\r415 / 859: -0.086544, 0.614254"
     ]
    },
    {
     "name": "stdout",
     "output_type": "stream",
     "text": [
      "\r416 / 859: -0.119337, 0.613263"
     ]
    },
    {
     "name": "stdout",
     "output_type": "stream",
     "text": [
      "\r417 / 859: -0.071003, 0.611167"
     ]
    },
    {
     "name": "stdout",
     "output_type": "stream",
     "text": [
      "\r418 / 859: -0.118471, 0.630421"
     ]
    },
    {
     "name": "stdout",
     "output_type": "stream",
     "text": [
      "\r419 / 859: -0.088503, 0.624658"
     ]
    },
    {
     "name": "stdout",
     "output_type": "stream",
     "text": [
      "\r420 / 859: -0.106692, 0.626996"
     ]
    },
    {
     "name": "stdout",
     "output_type": "stream",
     "text": [
      "\r421 / 859: -0.110329, 0.614287"
     ]
    },
    {
     "name": "stdout",
     "output_type": "stream",
     "text": [
      "\r422 / 859: -0.126704, 0.613500"
     ]
    },
    {
     "name": "stdout",
     "output_type": "stream",
     "text": [
      "\r423 / 859: -0.090276, 0.624070"
     ]
    },
    {
     "name": "stdout",
     "output_type": "stream",
     "text": [
      "\r424 / 859: -0.107700, 0.605046"
     ]
    },
    {
     "name": "stdout",
     "output_type": "stream",
     "text": [
      "\r425 / 859: -0.105621, 0.625976"
     ]
    },
    {
     "name": "stdout",
     "output_type": "stream",
     "text": [
      "\r426 / 859: -0.095184, 0.618982"
     ]
    },
    {
     "name": "stdout",
     "output_type": "stream",
     "text": [
      "\r427 / 859: -0.083035, 0.616793"
     ]
    },
    {
     "name": "stdout",
     "output_type": "stream",
     "text": [
      "\r428 / 859: -0.105086, 0.620184"
     ]
    },
    {
     "name": "stdout",
     "output_type": "stream",
     "text": [
      "\r429 / 859: -0.095405, 0.615600"
     ]
    },
    {
     "name": "stdout",
     "output_type": "stream",
     "text": [
      "\r430 / 859: -0.109780, 0.629008"
     ]
    },
    {
     "name": "stdout",
     "output_type": "stream",
     "text": [
      "\r431 / 859: -0.096613, 0.625232"
     ]
    },
    {
     "name": "stdout",
     "output_type": "stream",
     "text": [
      "\r432 / 859: -0.098287, 0.607657"
     ]
    },
    {
     "name": "stdout",
     "output_type": "stream",
     "text": [
      "\r433 / 859: -0.111448, 0.617089"
     ]
    },
    {
     "name": "stdout",
     "output_type": "stream",
     "text": [
      "\r434 / 859: -0.096754, 0.616302"
     ]
    },
    {
     "name": "stdout",
     "output_type": "stream",
     "text": [
      "\r435 / 859: -0.113402, 0.621741"
     ]
    },
    {
     "name": "stdout",
     "output_type": "stream",
     "text": [
      "\r436 / 859: -0.109096, 0.621707"
     ]
    },
    {
     "name": "stdout",
     "output_type": "stream",
     "text": [
      "\r437 / 859: -0.103497, 0.611613"
     ]
    },
    {
     "name": "stdout",
     "output_type": "stream",
     "text": [
      "\r438 / 859: -0.100618, 0.611217"
     ]
    },
    {
     "name": "stdout",
     "output_type": "stream",
     "text": [
      "\r439 / 859: -0.079452, 0.635989"
     ]
    },
    {
     "name": "stdout",
     "output_type": "stream",
     "text": [
      "\r440 / 859: -0.108536, 0.616258"
     ]
    },
    {
     "name": "stdout",
     "output_type": "stream",
     "text": [
      "\r441 / 859: -0.109873, 0.621201"
     ]
    },
    {
     "name": "stdout",
     "output_type": "stream",
     "text": [
      "\r442 / 859: -0.093243, 0.645077"
     ]
    },
    {
     "name": "stdout",
     "output_type": "stream",
     "text": [
      "\r443 / 859: -0.105564, 0.635272"
     ]
    },
    {
     "name": "stdout",
     "output_type": "stream",
     "text": [
      "\r444 / 859: -0.110807, 0.623916"
     ]
    },
    {
     "name": "stdout",
     "output_type": "stream",
     "text": [
      "\r445 / 859: -0.104699, 0.618227"
     ]
    },
    {
     "name": "stdout",
     "output_type": "stream",
     "text": [
      "\r446 / 859: -0.094997, 0.608631"
     ]
    },
    {
     "name": "stdout",
     "output_type": "stream",
     "text": [
      "\r447 / 859: -0.092269, 0.625316"
     ]
    },
    {
     "name": "stdout",
     "output_type": "stream",
     "text": [
      "\r448 / 859: -0.111715, 0.620014"
     ]
    },
    {
     "name": "stdout",
     "output_type": "stream",
     "text": [
      "\r449 / 859: -0.102627, 0.622441"
     ]
    },
    {
     "name": "stdout",
     "output_type": "stream",
     "text": [
      "\r450 / 859: -0.124556, 0.622300"
     ]
    },
    {
     "name": "stdout",
     "output_type": "stream",
     "text": [
      "\r451 / 859: -0.082653, 0.614209"
     ]
    },
    {
     "name": "stdout",
     "output_type": "stream",
     "text": [
      "\r452 / 859: -0.099558, 0.615997"
     ]
    },
    {
     "name": "stdout",
     "output_type": "stream",
     "text": [
      "\r453 / 859: -0.109961, 0.616104"
     ]
    },
    {
     "name": "stdout",
     "output_type": "stream",
     "text": [
      "\r454 / 859: -0.105216, 0.604574"
     ]
    },
    {
     "name": "stdout",
     "output_type": "stream",
     "text": [
      "\r455 / 859: -0.086794, 0.608472"
     ]
    },
    {
     "name": "stdout",
     "output_type": "stream",
     "text": [
      "\r456 / 859: -0.101075, 0.625093"
     ]
    },
    {
     "name": "stdout",
     "output_type": "stream",
     "text": [
      "\r457 / 859: -0.092120, 0.623836"
     ]
    },
    {
     "name": "stdout",
     "output_type": "stream",
     "text": [
      "\r458 / 859: -0.113406, 0.624998"
     ]
    },
    {
     "name": "stdout",
     "output_type": "stream",
     "text": [
      "\r459 / 859: -0.090983, 0.606655"
     ]
    },
    {
     "name": "stdout",
     "output_type": "stream",
     "text": [
      "\r460 / 859: -0.123928, 0.604741"
     ]
    },
    {
     "name": "stdout",
     "output_type": "stream",
     "text": [
      "\r461 / 859: -0.079960, 0.621539"
     ]
    },
    {
     "name": "stdout",
     "output_type": "stream",
     "text": [
      "\r462 / 859: -0.092355, 0.611117"
     ]
    },
    {
     "name": "stdout",
     "output_type": "stream",
     "text": [
      "\r463 / 859: -0.106944, 0.637250"
     ]
    },
    {
     "name": "stdout",
     "output_type": "stream",
     "text": [
      "\r464 / 859: -0.093355, 0.612450"
     ]
    },
    {
     "name": "stdout",
     "output_type": "stream",
     "text": [
      "\r465 / 859: -0.094927, 0.616419"
     ]
    },
    {
     "name": "stdout",
     "output_type": "stream",
     "text": [
      "\r466 / 859: -0.081945, 0.614670"
     ]
    },
    {
     "name": "stdout",
     "output_type": "stream",
     "text": [
      "\r467 / 859: -0.101266, 0.610111"
     ]
    },
    {
     "name": "stdout",
     "output_type": "stream",
     "text": [
      "\r468 / 859: -0.101686, 0.625975"
     ]
    },
    {
     "name": "stdout",
     "output_type": "stream",
     "text": [
      "\r469 / 859: -0.106968, 0.617427"
     ]
    },
    {
     "name": "stdout",
     "output_type": "stream",
     "text": [
      "\r470 / 859: -0.096850, 0.610026"
     ]
    },
    {
     "name": "stdout",
     "output_type": "stream",
     "text": [
      "\r471 / 859: -0.116035, 0.613001"
     ]
    },
    {
     "name": "stdout",
     "output_type": "stream",
     "text": [
      "\r472 / 859: -0.104022, 0.612590"
     ]
    },
    {
     "name": "stdout",
     "output_type": "stream",
     "text": [
      "\r473 / 859: -0.118562, 0.616390"
     ]
    },
    {
     "name": "stdout",
     "output_type": "stream",
     "text": [
      "\r474 / 859: -0.110275, 0.608009"
     ]
    },
    {
     "name": "stdout",
     "output_type": "stream",
     "text": [
      "\r475 / 859: -0.084481, 0.622286"
     ]
    },
    {
     "name": "stdout",
     "output_type": "stream",
     "text": [
      "\r476 / 859: -0.099976, 0.625826"
     ]
    },
    {
     "name": "stdout",
     "output_type": "stream",
     "text": [
      "\r477 / 859: -0.106561, 0.620438"
     ]
    },
    {
     "name": "stdout",
     "output_type": "stream",
     "text": [
      "\r478 / 859: -0.095016, 0.622144"
     ]
    },
    {
     "name": "stdout",
     "output_type": "stream",
     "text": [
      "\r479 / 859: -0.116088, 0.607394"
     ]
    },
    {
     "name": "stdout",
     "output_type": "stream",
     "text": [
      "\r480 / 859: -0.104200, 0.618587"
     ]
    },
    {
     "name": "stdout",
     "output_type": "stream",
     "text": [
      "\r481 / 859: -0.108161, 0.615517"
     ]
    },
    {
     "name": "stdout",
     "output_type": "stream",
     "text": [
      "\r482 / 859: -0.094356, 0.625479"
     ]
    },
    {
     "name": "stdout",
     "output_type": "stream",
     "text": [
      "\r483 / 859: -0.096281, 0.623808"
     ]
    },
    {
     "name": "stdout",
     "output_type": "stream",
     "text": [
      "\r484 / 859: -0.098080, 0.627623"
     ]
    },
    {
     "name": "stdout",
     "output_type": "stream",
     "text": [
      "\r485 / 859: -0.103174, 0.614468"
     ]
    },
    {
     "name": "stdout",
     "output_type": "stream",
     "text": [
      "\r486 / 859: -0.095960, 0.617352"
     ]
    },
    {
     "name": "stdout",
     "output_type": "stream",
     "text": [
      "\r487 / 859: -0.096816, 0.622856"
     ]
    },
    {
     "name": "stdout",
     "output_type": "stream",
     "text": [
      "\r488 / 859: -0.120584, 0.619071"
     ]
    },
    {
     "name": "stdout",
     "output_type": "stream",
     "text": [
      "\r489 / 859: -0.105802, 0.622205"
     ]
    },
    {
     "name": "stdout",
     "output_type": "stream",
     "text": [
      "\r490 / 859: -0.107306, 0.608886"
     ]
    },
    {
     "name": "stdout",
     "output_type": "stream",
     "text": [
      "\r491 / 859: -0.121689, 0.607892"
     ]
    },
    {
     "name": "stdout",
     "output_type": "stream",
     "text": [
      "\r492 / 859: -0.100629, 0.619228"
     ]
    },
    {
     "name": "stdout",
     "output_type": "stream",
     "text": [
      "\r493 / 859: -0.100229, 0.614158"
     ]
    },
    {
     "name": "stdout",
     "output_type": "stream",
     "text": [
      "\r494 / 859: -0.082454, 0.613984"
     ]
    },
    {
     "name": "stdout",
     "output_type": "stream",
     "text": [
      "\r495 / 859: -0.099852, 0.611487"
     ]
    },
    {
     "name": "stdout",
     "output_type": "stream",
     "text": [
      "\r496 / 859: -0.122547, 0.617544"
     ]
    },
    {
     "name": "stdout",
     "output_type": "stream",
     "text": [
      "\r497 / 859: -0.108211, 0.630232"
     ]
    },
    {
     "name": "stdout",
     "output_type": "stream",
     "text": [
      "\r498 / 859: -0.087520, 0.620834"
     ]
    },
    {
     "name": "stdout",
     "output_type": "stream",
     "text": [
      "\r499 / 859: -0.098539, 0.621073"
     ]
    },
    {
     "name": "stdout",
     "output_type": "stream",
     "text": [
      "\r500 / 859: -0.110922, 0.601154"
     ]
    },
    {
     "name": "stdout",
     "output_type": "stream",
     "text": [
      "\r501 / 859: -0.094435, 0.604108"
     ]
    },
    {
     "name": "stdout",
     "output_type": "stream",
     "text": [
      "\r502 / 859: -0.096140, 0.616502"
     ]
    },
    {
     "name": "stdout",
     "output_type": "stream",
     "text": [
      "\r503 / 859: -0.098962, 0.624780"
     ]
    },
    {
     "name": "stdout",
     "output_type": "stream",
     "text": [
      "\r504 / 859: -0.103348, 0.624408"
     ]
    },
    {
     "name": "stdout",
     "output_type": "stream",
     "text": [
      "\r505 / 859: -0.088418, 0.626194"
     ]
    },
    {
     "name": "stdout",
     "output_type": "stream",
     "text": [
      "\r506 / 859: -0.093811, 0.629752"
     ]
    },
    {
     "name": "stdout",
     "output_type": "stream",
     "text": [
      "\r507 / 859: -0.111943, 0.622075"
     ]
    },
    {
     "name": "stdout",
     "output_type": "stream",
     "text": [
      "\r508 / 859: -0.100866, 0.637152"
     ]
    },
    {
     "name": "stdout",
     "output_type": "stream",
     "text": [
      "\r509 / 859: -0.106575, 0.632374"
     ]
    },
    {
     "name": "stdout",
     "output_type": "stream",
     "text": [
      "\r510 / 859: -0.089532, 0.630647"
     ]
    },
    {
     "name": "stdout",
     "output_type": "stream",
     "text": [
      "\r511 / 859: -0.104094, 0.631202"
     ]
    },
    {
     "name": "stdout",
     "output_type": "stream",
     "text": [
      "\r512 / 859: -0.096876, 0.645287"
     ]
    },
    {
     "name": "stdout",
     "output_type": "stream",
     "text": [
      "\r513 / 859: -0.107057, 0.646783"
     ]
    },
    {
     "name": "stdout",
     "output_type": "stream",
     "text": [
      "\r514 / 859: -0.078037, 0.627458"
     ]
    },
    {
     "name": "stdout",
     "output_type": "stream",
     "text": [
      "\r515 / 859: -0.082340, 0.648474"
     ]
    },
    {
     "name": "stdout",
     "output_type": "stream",
     "text": [
      "\r516 / 859: -0.117693, 0.628625"
     ]
    },
    {
     "name": "stdout",
     "output_type": "stream",
     "text": [
      "\r517 / 859: -0.096190, 0.629203"
     ]
    },
    {
     "name": "stdout",
     "output_type": "stream",
     "text": [
      "\r518 / 859: -0.103774, 0.640857"
     ]
    },
    {
     "name": "stdout",
     "output_type": "stream",
     "text": [
      "\r519 / 859: -0.110263, 0.645661"
     ]
    },
    {
     "name": "stdout",
     "output_type": "stream",
     "text": [
      "\r520 / 859: -0.102160, 0.633826"
     ]
    },
    {
     "name": "stdout",
     "output_type": "stream",
     "text": [
      "\r521 / 859: -0.107719, 0.639748"
     ]
    },
    {
     "name": "stdout",
     "output_type": "stream",
     "text": [
      "\r522 / 859: -0.111006, 0.640360"
     ]
    },
    {
     "name": "stdout",
     "output_type": "stream",
     "text": [
      "\r523 / 859: -0.099099, 0.658456"
     ]
    },
    {
     "name": "stdout",
     "output_type": "stream",
     "text": [
      "\r524 / 859: -0.094621, 0.628955"
     ]
    },
    {
     "name": "stdout",
     "output_type": "stream",
     "text": [
      "\r525 / 859: -0.103864, 0.639059"
     ]
    },
    {
     "name": "stdout",
     "output_type": "stream",
     "text": [
      "\r526 / 859: -0.099525, 0.637146"
     ]
    },
    {
     "name": "stdout",
     "output_type": "stream",
     "text": [
      "\r527 / 859: -0.115515, 0.627220"
     ]
    },
    {
     "name": "stdout",
     "output_type": "stream",
     "text": [
      "\r528 / 859: -0.091134, 0.640694"
     ]
    },
    {
     "name": "stdout",
     "output_type": "stream",
     "text": [
      "\r529 / 859: -0.091519, 0.641729"
     ]
    },
    {
     "name": "stdout",
     "output_type": "stream",
     "text": [
      "\r530 / 859: -0.083395, 0.650572"
     ]
    },
    {
     "name": "stdout",
     "output_type": "stream",
     "text": [
      "\r531 / 859: -0.086520, 0.630783"
     ]
    },
    {
     "name": "stdout",
     "output_type": "stream",
     "text": [
      "\r532 / 859: -0.088367, 0.638400"
     ]
    },
    {
     "name": "stdout",
     "output_type": "stream",
     "text": [
      "\r533 / 859: -0.098014, 0.638301"
     ]
    },
    {
     "name": "stdout",
     "output_type": "stream",
     "text": [
      "\r534 / 859: -0.093203, 0.649521"
     ]
    },
    {
     "name": "stdout",
     "output_type": "stream",
     "text": [
      "\r535 / 859: -0.110490, 0.639129"
     ]
    },
    {
     "name": "stdout",
     "output_type": "stream",
     "text": [
      "\r536 / 859: -0.116516, 0.647558"
     ]
    },
    {
     "name": "stdout",
     "output_type": "stream",
     "text": [
      "\r537 / 859: -0.123671, 0.657179"
     ]
    },
    {
     "name": "stdout",
     "output_type": "stream",
     "text": [
      "\r538 / 859: -0.120542, 0.655199"
     ]
    },
    {
     "name": "stdout",
     "output_type": "stream",
     "text": [
      "\r539 / 859: -0.090895, 0.627148"
     ]
    },
    {
     "name": "stdout",
     "output_type": "stream",
     "text": [
      "\r540 / 859: -0.121625, 0.660625"
     ]
    },
    {
     "name": "stdout",
     "output_type": "stream",
     "text": [
      "\r541 / 859: -0.104441, 0.653175"
     ]
    },
    {
     "name": "stdout",
     "output_type": "stream",
     "text": [
      "\r542 / 859: -0.099762, 0.658234"
     ]
    },
    {
     "name": "stdout",
     "output_type": "stream",
     "text": [
      "\r543 / 859: -0.118747, 0.646809"
     ]
    },
    {
     "name": "stdout",
     "output_type": "stream",
     "text": [
      "\r544 / 859: -0.092518, 0.664378"
     ]
    },
    {
     "name": "stdout",
     "output_type": "stream",
     "text": [
      "\r545 / 859: -0.112622, 0.664706"
     ]
    },
    {
     "name": "stdout",
     "output_type": "stream",
     "text": [
      "\r546 / 859: -0.119851, 0.654530"
     ]
    },
    {
     "name": "stdout",
     "output_type": "stream",
     "text": [
      "\r547 / 859: -0.116316, 0.654214"
     ]
    },
    {
     "name": "stdout",
     "output_type": "stream",
     "text": [
      "\r548 / 859: -0.113890, 0.675120"
     ]
    },
    {
     "name": "stdout",
     "output_type": "stream",
     "text": [
      "\r549 / 859: -0.106553, 0.664047"
     ]
    },
    {
     "name": "stdout",
     "output_type": "stream",
     "text": [
      "\r550 / 859: -0.105959, 0.654330"
     ]
    },
    {
     "name": "stdout",
     "output_type": "stream",
     "text": [
      "\r551 / 859: -0.111306, 0.674470"
     ]
    },
    {
     "name": "stdout",
     "output_type": "stream",
     "text": [
      "\r552 / 859: -0.129677, 0.662163"
     ]
    },
    {
     "name": "stdout",
     "output_type": "stream",
     "text": [
      "\r553 / 859: -0.103757, 0.669102"
     ]
    },
    {
     "name": "stdout",
     "output_type": "stream",
     "text": [
      "\r554 / 859: -0.120407, 0.678071"
     ]
    },
    {
     "name": "stdout",
     "output_type": "stream",
     "text": [
      "\r555 / 859: -0.097362, 0.671673"
     ]
    },
    {
     "name": "stdout",
     "output_type": "stream",
     "text": [
      "\r556 / 859: -0.101226, 0.670422"
     ]
    },
    {
     "name": "stdout",
     "output_type": "stream",
     "text": [
      "\r557 / 859: -0.100821, 0.690820"
     ]
    },
    {
     "name": "stdout",
     "output_type": "stream",
     "text": [
      "\r558 / 859: -0.116646, 0.684282"
     ]
    },
    {
     "name": "stdout",
     "output_type": "stream",
     "text": [
      "\r559 / 859: -0.127436, 0.689799"
     ]
    },
    {
     "name": "stdout",
     "output_type": "stream",
     "text": [
      "\r560 / 859: -0.096940, 0.689056"
     ]
    },
    {
     "name": "stdout",
     "output_type": "stream",
     "text": [
      "\r561 / 859: -0.112265, 0.689188"
     ]
    },
    {
     "name": "stdout",
     "output_type": "stream",
     "text": [
      "\r562 / 859: -0.126975, 0.689905"
     ]
    },
    {
     "name": "stdout",
     "output_type": "stream",
     "text": [
      "\r563 / 859: -0.118104, 0.678030"
     ]
    },
    {
     "name": "stdout",
     "output_type": "stream",
     "text": [
      "\r564 / 859: -0.101915, 0.688139"
     ]
    },
    {
     "name": "stdout",
     "output_type": "stream",
     "text": [
      "\r565 / 859: -0.097936, 0.691948"
     ]
    },
    {
     "name": "stdout",
     "output_type": "stream",
     "text": [
      "\r566 / 859: -0.109003, 0.706059"
     ]
    },
    {
     "name": "stdout",
     "output_type": "stream",
     "text": [
      "\r567 / 859: -0.114731, 0.679185"
     ]
    },
    {
     "name": "stdout",
     "output_type": "stream",
     "text": [
      "\r568 / 859: -0.101389, 0.700556"
     ]
    },
    {
     "name": "stdout",
     "output_type": "stream",
     "text": [
      "\r569 / 859: -0.108913, 0.689610"
     ]
    },
    {
     "name": "stdout",
     "output_type": "stream",
     "text": [
      "\r570 / 859: -0.101988, 0.677587"
     ]
    },
    {
     "name": "stdout",
     "output_type": "stream",
     "text": [
      "\r571 / 859: -0.114232, 0.686499"
     ]
    },
    {
     "name": "stdout",
     "output_type": "stream",
     "text": [
      "\r572 / 859: -0.117231, 0.678751"
     ]
    },
    {
     "name": "stdout",
     "output_type": "stream",
     "text": [
      "\r573 / 859: -0.120217, 0.681897"
     ]
    },
    {
     "name": "stdout",
     "output_type": "stream",
     "text": [
      "\r574 / 859: -0.098444, 0.687398"
     ]
    },
    {
     "name": "stdout",
     "output_type": "stream",
     "text": [
      "\r575 / 859: -0.073286, 0.690219"
     ]
    },
    {
     "name": "stdout",
     "output_type": "stream",
     "text": [
      "\r576 / 859: -0.101191, 0.690401"
     ]
    },
    {
     "name": "stdout",
     "output_type": "stream",
     "text": [
      "\r577 / 859: -0.080912, 0.709205"
     ]
    },
    {
     "name": "stdout",
     "output_type": "stream",
     "text": [
      "\r578 / 859: -0.116484, 0.708390"
     ]
    },
    {
     "name": "stdout",
     "output_type": "stream",
     "text": [
      "\r579 / 859: -0.113020, 0.728091"
     ]
    },
    {
     "name": "stdout",
     "output_type": "stream",
     "text": [
      "\r580 / 859: -0.104248, 0.715063"
     ]
    },
    {
     "name": "stdout",
     "output_type": "stream",
     "text": [
      "\r581 / 859: -0.125414, 0.737233"
     ]
    },
    {
     "name": "stdout",
     "output_type": "stream",
     "text": [
      "\r582 / 859: -0.114006, 0.729736"
     ]
    },
    {
     "name": "stdout",
     "output_type": "stream",
     "text": [
      "\r583 / 859: -0.126800, 0.725061"
     ]
    },
    {
     "name": "stdout",
     "output_type": "stream",
     "text": [
      "\r584 / 859: -0.114317, 0.717040"
     ]
    },
    {
     "name": "stdout",
     "output_type": "stream",
     "text": [
      "\r585 / 859: -0.100939, 0.737934"
     ]
    },
    {
     "name": "stdout",
     "output_type": "stream",
     "text": [
      "\r586 / 859: -0.109914, 0.730178"
     ]
    },
    {
     "name": "stdout",
     "output_type": "stream",
     "text": [
      "\r587 / 859: -0.111936, 0.747787"
     ]
    },
    {
     "name": "stdout",
     "output_type": "stream",
     "text": [
      "\r588 / 859: -0.107248, 0.735260"
     ]
    },
    {
     "name": "stdout",
     "output_type": "stream",
     "text": [
      "\r589 / 859: -0.106505, 0.739265"
     ]
    },
    {
     "name": "stdout",
     "output_type": "stream",
     "text": [
      "\r590 / 859: -0.110934, 0.743819"
     ]
    },
    {
     "name": "stdout",
     "output_type": "stream",
     "text": [
      "\r591 / 859: -0.100375, 0.749508"
     ]
    },
    {
     "name": "stdout",
     "output_type": "stream",
     "text": [
      "\r592 / 859: -0.105881, 0.737890"
     ]
    },
    {
     "name": "stdout",
     "output_type": "stream",
     "text": [
      "\r593 / 859: -0.137854, 0.724387"
     ]
    },
    {
     "name": "stdout",
     "output_type": "stream",
     "text": [
      "\r594 / 859: -0.115656, 0.745326"
     ]
    },
    {
     "name": "stdout",
     "output_type": "stream",
     "text": [
      "\r595 / 859: -0.133392, 0.754899"
     ]
    },
    {
     "name": "stdout",
     "output_type": "stream",
     "text": [
      "\r596 / 859: -0.133189, 0.760701"
     ]
    },
    {
     "name": "stdout",
     "output_type": "stream",
     "text": [
      "\r597 / 859: -0.120364, 0.748983"
     ]
    },
    {
     "name": "stdout",
     "output_type": "stream",
     "text": [
      "\r598 / 859: -0.123321, 0.740610"
     ]
    },
    {
     "name": "stdout",
     "output_type": "stream",
     "text": [
      "\r599 / 859: -0.139447, 0.762503"
     ]
    },
    {
     "name": "stdout",
     "output_type": "stream",
     "text": [
      "\r600 / 859: -0.137676, 0.768111"
     ]
    },
    {
     "name": "stdout",
     "output_type": "stream",
     "text": [
      "\r601 / 859: -0.103891, 0.755152"
     ]
    },
    {
     "name": "stdout",
     "output_type": "stream",
     "text": [
      "\r602 / 859: -0.113061, 0.753251"
     ]
    },
    {
     "name": "stdout",
     "output_type": "stream",
     "text": [
      "\r603 / 859: -0.128833, 0.762608"
     ]
    },
    {
     "name": "stdout",
     "output_type": "stream",
     "text": [
      "\r604 / 859: -0.107389, 0.757351"
     ]
    },
    {
     "name": "stdout",
     "output_type": "stream",
     "text": [
      "\r605 / 859: -0.111844, 0.772901"
     ]
    },
    {
     "name": "stdout",
     "output_type": "stream",
     "text": [
      "\r606 / 859: -0.099046, 0.770451"
     ]
    },
    {
     "name": "stdout",
     "output_type": "stream",
     "text": [
      "\r607 / 859: -0.112492, 0.777465"
     ]
    },
    {
     "name": "stdout",
     "output_type": "stream",
     "text": [
      "\r608 / 859: -0.157875, 0.773471"
     ]
    },
    {
     "name": "stdout",
     "output_type": "stream",
     "text": [
      "\r609 / 859: -0.130611, 0.794676"
     ]
    },
    {
     "name": "stdout",
     "output_type": "stream",
     "text": [
      "\r610 / 859: -0.136544, 0.774258"
     ]
    },
    {
     "name": "stdout",
     "output_type": "stream",
     "text": [
      "\r611 / 859: -0.129282, 0.777964"
     ]
    },
    {
     "name": "stdout",
     "output_type": "stream",
     "text": [
      "\r612 / 859: -0.127533, 0.791841"
     ]
    },
    {
     "name": "stdout",
     "output_type": "stream",
     "text": [
      "\r613 / 859: -0.125269, 0.792015"
     ]
    },
    {
     "name": "stdout",
     "output_type": "stream",
     "text": [
      "\r614 / 859: -0.155144, 0.812910"
     ]
    },
    {
     "name": "stdout",
     "output_type": "stream",
     "text": [
      "\r615 / 859: -0.126789, 0.811227"
     ]
    },
    {
     "name": "stdout",
     "output_type": "stream",
     "text": [
      "\r616 / 859: -0.141426, 0.818497"
     ]
    },
    {
     "name": "stdout",
     "output_type": "stream",
     "text": [
      "\r617 / 859: -0.158550, 0.807714"
     ]
    },
    {
     "name": "stdout",
     "output_type": "stream",
     "text": [
      "\r618 / 859: -0.146052, 0.818479"
     ]
    },
    {
     "name": "stdout",
     "output_type": "stream",
     "text": [
      "\r619 / 859: -0.132982, 0.810266"
     ]
    },
    {
     "name": "stdout",
     "output_type": "stream",
     "text": [
      "\r620 / 859: -0.133858, 0.796285"
     ]
    },
    {
     "name": "stdout",
     "output_type": "stream",
     "text": [
      "\r621 / 859: -0.112836, 0.803485"
     ]
    },
    {
     "name": "stdout",
     "output_type": "stream",
     "text": [
      "\r622 / 859: -0.131274, 0.809001"
     ]
    },
    {
     "name": "stdout",
     "output_type": "stream",
     "text": [
      "\r623 / 859: -0.115059, 0.791108"
     ]
    },
    {
     "name": "stdout",
     "output_type": "stream",
     "text": [
      "\r624 / 859: -0.146849, 0.802041"
     ]
    },
    {
     "name": "stdout",
     "output_type": "stream",
     "text": [
      "\r625 / 859: -0.136040, 0.806289"
     ]
    },
    {
     "name": "stdout",
     "output_type": "stream",
     "text": [
      "\r626 / 859: -0.127121, 0.804779"
     ]
    },
    {
     "name": "stdout",
     "output_type": "stream",
     "text": [
      "\r627 / 859: -0.137606, 0.805141"
     ]
    },
    {
     "name": "stdout",
     "output_type": "stream",
     "text": [
      "\r628 / 859: -0.125601, 0.791154"
     ]
    },
    {
     "name": "stdout",
     "output_type": "stream",
     "text": [
      "\r629 / 859: -0.138617, 0.796718"
     ]
    },
    {
     "name": "stdout",
     "output_type": "stream",
     "text": [
      "\r630 / 859: -0.157392, 0.807374"
     ]
    },
    {
     "name": "stdout",
     "output_type": "stream",
     "text": [
      "\r631 / 859: -0.150322, 0.795989"
     ]
    },
    {
     "name": "stdout",
     "output_type": "stream",
     "text": [
      "\r632 / 859: -0.123946, 0.819173"
     ]
    },
    {
     "name": "stdout",
     "output_type": "stream",
     "text": [
      "\r633 / 859: -0.141222, 0.792121"
     ]
    },
    {
     "name": "stdout",
     "output_type": "stream",
     "text": [
      "\r634 / 859: -0.146111, 0.793201"
     ]
    },
    {
     "name": "stdout",
     "output_type": "stream",
     "text": [
      "\r635 / 859: -0.145742, 0.780817"
     ]
    },
    {
     "name": "stdout",
     "output_type": "stream",
     "text": [
      "\r636 / 859: -0.158509, 0.814859"
     ]
    },
    {
     "name": "stdout",
     "output_type": "stream",
     "text": [
      "\r637 / 859: -0.152379, 0.808275"
     ]
    },
    {
     "name": "stdout",
     "output_type": "stream",
     "text": [
      "\r638 / 859: -0.145655, 0.818524"
     ]
    },
    {
     "name": "stdout",
     "output_type": "stream",
     "text": [
      "\r639 / 859: -0.142287, 0.806040"
     ]
    },
    {
     "name": "stdout",
     "output_type": "stream",
     "text": [
      "\r640 / 859: -0.168820, 0.832309"
     ]
    },
    {
     "name": "stdout",
     "output_type": "stream",
     "text": [
      "\r641 / 859: -0.142521, 0.848749"
     ]
    },
    {
     "name": "stdout",
     "output_type": "stream",
     "text": [
      "\r642 / 859: -0.129051, 0.860914"
     ]
    },
    {
     "name": "stdout",
     "output_type": "stream",
     "text": [
      "\r643 / 859: -0.143110, 0.852941"
     ]
    },
    {
     "name": "stdout",
     "output_type": "stream",
     "text": [
      "\r644 / 859: -0.151721, 0.862702"
     ]
    },
    {
     "name": "stdout",
     "output_type": "stream",
     "text": [
      "\r645 / 859: -0.136876, 0.882785"
     ]
    },
    {
     "name": "stdout",
     "output_type": "stream",
     "text": [
      "\r646 / 859: -0.152089, 0.881637"
     ]
    },
    {
     "name": "stdout",
     "output_type": "stream",
     "text": [
      "\r647 / 859: -0.163870, 0.871642"
     ]
    },
    {
     "name": "stdout",
     "output_type": "stream",
     "text": [
      "\r648 / 859: -0.146076, 0.870991"
     ]
    },
    {
     "name": "stdout",
     "output_type": "stream",
     "text": [
      "\r649 / 859: -0.161329, 0.863188"
     ]
    },
    {
     "name": "stdout",
     "output_type": "stream",
     "text": [
      "\r650 / 859: -0.128266, 0.871647"
     ]
    },
    {
     "name": "stdout",
     "output_type": "stream",
     "text": [
      "\r651 / 859: -0.125376, 0.877634"
     ]
    },
    {
     "name": "stdout",
     "output_type": "stream",
     "text": [
      "\r652 / 859: -0.152160, 0.873379"
     ]
    },
    {
     "name": "stdout",
     "output_type": "stream",
     "text": [
      "\r653 / 859: -0.140128, 0.875708"
     ]
    },
    {
     "name": "stdout",
     "output_type": "stream",
     "text": [
      "\r654 / 859: -0.140606, 0.877362"
     ]
    },
    {
     "name": "stdout",
     "output_type": "stream",
     "text": [
      "\r655 / 859: -0.153400, 0.889516"
     ]
    },
    {
     "name": "stdout",
     "output_type": "stream",
     "text": [
      "\r656 / 859: -0.155129, 0.877762"
     ]
    },
    {
     "name": "stdout",
     "output_type": "stream",
     "text": [
      "\r657 / 859: -0.160289, 0.874142"
     ]
    },
    {
     "name": "stdout",
     "output_type": "stream",
     "text": [
      "\r658 / 859: -0.163237, 0.894752"
     ]
    },
    {
     "name": "stdout",
     "output_type": "stream",
     "text": [
      "\r659 / 859: -0.126973, 0.914233"
     ]
    },
    {
     "name": "stdout",
     "output_type": "stream",
     "text": [
      "\r660 / 859: -0.155279, 0.903097"
     ]
    },
    {
     "name": "stdout",
     "output_type": "stream",
     "text": [
      "\r661 / 859: -0.179404, 0.916281"
     ]
    },
    {
     "name": "stdout",
     "output_type": "stream",
     "text": [
      "\r662 / 859: -0.157160, 0.923280"
     ]
    },
    {
     "name": "stdout",
     "output_type": "stream",
     "text": [
      "\r663 / 859: -0.148624, 0.919817"
     ]
    },
    {
     "name": "stdout",
     "output_type": "stream",
     "text": [
      "\r664 / 859: -0.136829, 0.927789"
     ]
    },
    {
     "name": "stdout",
     "output_type": "stream",
     "text": [
      "\r665 / 859: -0.135521, 0.938916"
     ]
    },
    {
     "name": "stdout",
     "output_type": "stream",
     "text": [
      "\r666 / 859: -0.155335, 0.927396"
     ]
    },
    {
     "name": "stdout",
     "output_type": "stream",
     "text": [
      "\r667 / 859: -0.141444, 0.930775"
     ]
    },
    {
     "name": "stdout",
     "output_type": "stream",
     "text": [
      "\r668 / 859: -0.171470, 0.909484"
     ]
    },
    {
     "name": "stdout",
     "output_type": "stream",
     "text": [
      "\r669 / 859: -0.142933, 0.928181"
     ]
    },
    {
     "name": "stdout",
     "output_type": "stream",
     "text": [
      "\r670 / 859: -0.148417, 0.949318"
     ]
    },
    {
     "name": "stdout",
     "output_type": "stream",
     "text": [
      "\r671 / 859: -0.147222, 0.939343"
     ]
    },
    {
     "name": "stdout",
     "output_type": "stream",
     "text": [
      "\r672 / 859: -0.163800, 0.962893"
     ]
    },
    {
     "name": "stdout",
     "output_type": "stream",
     "text": [
      "\r673 / 859: -0.128172, 0.968884"
     ]
    },
    {
     "name": "stdout",
     "output_type": "stream",
     "text": [
      "\r674 / 859: -0.167146, 0.959958"
     ]
    },
    {
     "name": "stdout",
     "output_type": "stream",
     "text": [
      "\r675 / 859: -0.162736, 0.974432"
     ]
    },
    {
     "name": "stdout",
     "output_type": "stream",
     "text": [
      "\r676 / 859: -0.152329, 0.954931"
     ]
    },
    {
     "name": "stdout",
     "output_type": "stream",
     "text": [
      "\r677 / 859: -0.157455, 0.971179"
     ]
    },
    {
     "name": "stdout",
     "output_type": "stream",
     "text": [
      "\r678 / 859: -0.139327, 0.995858"
     ]
    },
    {
     "name": "stdout",
     "output_type": "stream",
     "text": [
      "\r679 / 859: -0.135827, 1.005868"
     ]
    },
    {
     "name": "stdout",
     "output_type": "stream",
     "text": [
      "\r680 / 859: -0.130315, 0.987767"
     ]
    },
    {
     "name": "stdout",
     "output_type": "stream",
     "text": [
      "\r681 / 859: -0.121671, 0.984877"
     ]
    },
    {
     "name": "stdout",
     "output_type": "stream",
     "text": [
      "\r682 / 859: -0.140084, 0.972425"
     ]
    },
    {
     "name": "stdout",
     "output_type": "stream",
     "text": [
      "\r683 / 859: -0.150618, 1.000480"
     ]
    },
    {
     "name": "stdout",
     "output_type": "stream",
     "text": [
      "\r684 / 859: -0.117440, 0.965497"
     ]
    },
    {
     "name": "stdout",
     "output_type": "stream",
     "text": [
      "\r685 / 859: -0.132045, 0.958548"
     ]
    },
    {
     "name": "stdout",
     "output_type": "stream",
     "text": [
      "\r686 / 859: -0.120302, 0.969968"
     ]
    },
    {
     "name": "stdout",
     "output_type": "stream",
     "text": [
      "\r687 / 859: -0.165040, 0.985194"
     ]
    },
    {
     "name": "stdout",
     "output_type": "stream",
     "text": [
      "\r688 / 859: -0.164295, 0.971373"
     ]
    },
    {
     "name": "stdout",
     "output_type": "stream",
     "text": [
      "\r689 / 859: -0.124870, 0.974354"
     ]
    },
    {
     "name": "stdout",
     "output_type": "stream",
     "text": [
      "\r690 / 859: -0.149422, 0.962617"
     ]
    },
    {
     "name": "stdout",
     "output_type": "stream",
     "text": [
      "\r691 / 859: -0.152764, 0.994227"
     ]
    },
    {
     "name": "stdout",
     "output_type": "stream",
     "text": [
      "\r692 / 859: -0.108777, 0.966677"
     ]
    },
    {
     "name": "stdout",
     "output_type": "stream",
     "text": [
      "\r693 / 859: -0.194426, 0.990880"
     ]
    },
    {
     "name": "stdout",
     "output_type": "stream",
     "text": [
      "\r694 / 859: -0.171658, 0.975997"
     ]
    },
    {
     "name": "stdout",
     "output_type": "stream",
     "text": [
      "\r695 / 859: -0.128252, 0.992953"
     ]
    },
    {
     "name": "stdout",
     "output_type": "stream",
     "text": [
      "\r696 / 859: -0.147770, 0.969386"
     ]
    },
    {
     "name": "stdout",
     "output_type": "stream",
     "text": [
      "\r697 / 859: -0.177788, 0.954500"
     ]
    },
    {
     "name": "stdout",
     "output_type": "stream",
     "text": [
      "\r698 / 859: -0.138073, 0.971865"
     ]
    },
    {
     "name": "stdout",
     "output_type": "stream",
     "text": [
      "\r699 / 859: -0.110325, 0.951076"
     ]
    },
    {
     "name": "stdout",
     "output_type": "stream",
     "text": [
      "\r700 / 859: -0.142852, 0.938832"
     ]
    },
    {
     "name": "stdout",
     "output_type": "stream",
     "text": [
      "\r701 / 859: -0.123292, 0.966355"
     ]
    },
    {
     "name": "stdout",
     "output_type": "stream",
     "text": [
      "\r702 / 859: -0.097140, 0.980834"
     ]
    },
    {
     "name": "stdout",
     "output_type": "stream",
     "text": [
      "\r703 / 859: -0.150901, 1.000590"
     ]
    },
    {
     "name": "stdout",
     "output_type": "stream",
     "text": [
      "\r704 / 859: -0.127702, 1.002112"
     ]
    },
    {
     "name": "stdout",
     "output_type": "stream",
     "text": [
      "\r705 / 859: -0.098075, 1.029300"
     ]
    },
    {
     "name": "stdout",
     "output_type": "stream",
     "text": [
      "\r706 / 859: -0.129992, 1.023079"
     ]
    },
    {
     "name": "stdout",
     "output_type": "stream",
     "text": [
      "\r707 / 859: -0.132591, 1.013925"
     ]
    },
    {
     "name": "stdout",
     "output_type": "stream",
     "text": [
      "\r708 / 859: -0.097915, 1.077081"
     ]
    },
    {
     "name": "stdout",
     "output_type": "stream",
     "text": [
      "\r709 / 859: -0.171502, 1.061884"
     ]
    },
    {
     "name": "stdout",
     "output_type": "stream",
     "text": [
      "\r710 / 859: -0.156116, 1.062934"
     ]
    },
    {
     "name": "stdout",
     "output_type": "stream",
     "text": [
      "\r711 / 859: -0.118538, 1.110147"
     ]
    },
    {
     "name": "stdout",
     "output_type": "stream",
     "text": [
      "\r712 / 859: -0.150481, 1.103738"
     ]
    },
    {
     "name": "stdout",
     "output_type": "stream",
     "text": [
      "\r713 / 859: -0.125936, 1.132023"
     ]
    },
    {
     "name": "stdout",
     "output_type": "stream",
     "text": [
      "\r714 / 859: -0.117501, 1.112989"
     ]
    },
    {
     "name": "stdout",
     "output_type": "stream",
     "text": [
      "\r715 / 859: -0.144380, 1.122353"
     ]
    },
    {
     "name": "stdout",
     "output_type": "stream",
     "text": [
      "\r716 / 859: -0.130019, 1.108301"
     ]
    },
    {
     "name": "stdout",
     "output_type": "stream",
     "text": [
      "\r717 / 859: -0.136621, 1.153386"
     ]
    },
    {
     "name": "stdout",
     "output_type": "stream",
     "text": [
      "\r718 / 859: -0.154800, 1.203057"
     ]
    },
    {
     "name": "stdout",
     "output_type": "stream",
     "text": [
      "\r719 / 859: -0.101122, 1.199741"
     ]
    },
    {
     "name": "stdout",
     "output_type": "stream",
     "text": [
      "\r720 / 859: -0.117818, 1.198861"
     ]
    },
    {
     "name": "stdout",
     "output_type": "stream",
     "text": [
      "\r721 / 859: -0.133135, 1.197562"
     ]
    },
    {
     "name": "stdout",
     "output_type": "stream",
     "text": [
      "\r722 / 859: -0.117844, 1.206843"
     ]
    },
    {
     "name": "stdout",
     "output_type": "stream",
     "text": [
      "\r723 / 859: -0.092047, 1.160048"
     ]
    },
    {
     "name": "stdout",
     "output_type": "stream",
     "text": [
      "\r724 / 859: -0.127491, 1.164360"
     ]
    },
    {
     "name": "stdout",
     "output_type": "stream",
     "text": [
      "\r725 / 859: -0.115674, 1.176673"
     ]
    },
    {
     "name": "stdout",
     "output_type": "stream",
     "text": [
      "\r726 / 859: -0.108997, 1.143891"
     ]
    },
    {
     "name": "stdout",
     "output_type": "stream",
     "text": [
      "\r727 / 859: -0.106946, 1.169990"
     ]
    },
    {
     "name": "stdout",
     "output_type": "stream",
     "text": [
      "\r728 / 859: -0.100589, 1.133464"
     ]
    },
    {
     "name": "stdout",
     "output_type": "stream",
     "text": [
      "\r729 / 859: -0.139297, 1.123888"
     ]
    },
    {
     "name": "stdout",
     "output_type": "stream",
     "text": [
      "\r730 / 859: -0.087919, 1.090428"
     ]
    },
    {
     "name": "stdout",
     "output_type": "stream",
     "text": [
      "\r731 / 859: -0.086956, 1.076300"
     ]
    },
    {
     "name": "stdout",
     "output_type": "stream",
     "text": [
      "\r732 / 859: -0.117006, 1.103457"
     ]
    },
    {
     "name": "stdout",
     "output_type": "stream",
     "text": [
      "\r733 / 859: -0.136241, 1.090245"
     ]
    },
    {
     "name": "stdout",
     "output_type": "stream",
     "text": [
      "\r734 / 859: -0.106736, 1.080854"
     ]
    },
    {
     "name": "stdout",
     "output_type": "stream",
     "text": [
      "\r735 / 859: -0.097240, 1.079223"
     ]
    },
    {
     "name": "stdout",
     "output_type": "stream",
     "text": [
      "\r736 / 859: -0.106373, 1.089736"
     ]
    },
    {
     "name": "stdout",
     "output_type": "stream",
     "text": [
      "\r737 / 859: -0.104621, 1.090979"
     ]
    },
    {
     "name": "stdout",
     "output_type": "stream",
     "text": [
      "\r738 / 859: -0.112842, 1.103745"
     ]
    },
    {
     "name": "stdout",
     "output_type": "stream",
     "text": [
      "\r739 / 859: -0.103172, 1.072585"
     ]
    },
    {
     "name": "stdout",
     "output_type": "stream",
     "text": [
      "\r740 / 859: -0.109330, 1.093483"
     ]
    },
    {
     "name": "stdout",
     "output_type": "stream",
     "text": [
      "\r741 / 859: -0.121776, 1.107156"
     ]
    },
    {
     "name": "stdout",
     "output_type": "stream",
     "text": [
      "\r742 / 859: -0.115323, 1.073241"
     ]
    },
    {
     "name": "stdout",
     "output_type": "stream",
     "text": [
      "\r743 / 859: -0.118981, 1.079009"
     ]
    },
    {
     "name": "stdout",
     "output_type": "stream",
     "text": [
      "\r744 / 859: -0.094766, 1.069080"
     ]
    },
    {
     "name": "stdout",
     "output_type": "stream",
     "text": [
      "\r745 / 859: -0.150402, 1.062174"
     ]
    },
    {
     "name": "stdout",
     "output_type": "stream",
     "text": [
      "\r746 / 859: -0.142192, 1.071810"
     ]
    },
    {
     "name": "stdout",
     "output_type": "stream",
     "text": [
      "\r747 / 859: -0.108757, 1.155170"
     ]
    },
    {
     "name": "stdout",
     "output_type": "stream",
     "text": [
      "\r748 / 859: -0.119524, 1.141451"
     ]
    },
    {
     "name": "stdout",
     "output_type": "stream",
     "text": [
      "\r749 / 859: -0.092814, 1.116968"
     ]
    },
    {
     "name": "stdout",
     "output_type": "stream",
     "text": [
      "\r750 / 859: -0.093839, 1.171440"
     ]
    },
    {
     "name": "stdout",
     "output_type": "stream",
     "text": [
      "\r751 / 859: -0.130827, 1.185366"
     ]
    },
    {
     "name": "stdout",
     "output_type": "stream",
     "text": [
      "\r752 / 859: -0.118722, 1.170276"
     ]
    },
    {
     "name": "stdout",
     "output_type": "stream",
     "text": [
      "\r753 / 859: -0.099510, 1.143092"
     ]
    },
    {
     "name": "stdout",
     "output_type": "stream",
     "text": [
      "\r754 / 859: -0.104509, 1.219985"
     ]
    },
    {
     "name": "stdout",
     "output_type": "stream",
     "text": [
      "\r755 / 859: -0.119031, 1.191872"
     ]
    },
    {
     "name": "stdout",
     "output_type": "stream",
     "text": [
      "\r756 / 859: -0.129789, 1.187436"
     ]
    },
    {
     "name": "stdout",
     "output_type": "stream",
     "text": [
      "\r757 / 859: -0.098466, 1.209001"
     ]
    },
    {
     "name": "stdout",
     "output_type": "stream",
     "text": [
      "\r758 / 859: -0.119839, 1.220933"
     ]
    },
    {
     "name": "stdout",
     "output_type": "stream",
     "text": [
      "\r759 / 859: -0.072062, 1.239679"
     ]
    },
    {
     "name": "stdout",
     "output_type": "stream",
     "text": [
      "\r760 / 859: -0.102194, 1.222816"
     ]
    },
    {
     "name": "stdout",
     "output_type": "stream",
     "text": [
      "\r761 / 859: -0.086608, 1.257705"
     ]
    },
    {
     "name": "stdout",
     "output_type": "stream",
     "text": [
      "\r762 / 859: -0.118140, 1.306478"
     ]
    },
    {
     "name": "stdout",
     "output_type": "stream",
     "text": [
      "\r763 / 859: -0.096177, 1.247701"
     ]
    },
    {
     "name": "stdout",
     "output_type": "stream",
     "text": [
      "\r764 / 859: -0.083348, 1.275570"
     ]
    },
    {
     "name": "stdout",
     "output_type": "stream",
     "text": [
      "\r765 / 859: -0.106622, 1.242803"
     ]
    },
    {
     "name": "stdout",
     "output_type": "stream",
     "text": [
      "\r766 / 859: -0.126021, 1.206563"
     ]
    },
    {
     "name": "stdout",
     "output_type": "stream",
     "text": [
      "\r767 / 859: -0.090122, 1.228631"
     ]
    },
    {
     "name": "stdout",
     "output_type": "stream",
     "text": [
      "\r768 / 859: -0.075167, 1.212983"
     ]
    },
    {
     "name": "stdout",
     "output_type": "stream",
     "text": [
      "\r769 / 859: -0.101298, 1.208619"
     ]
    },
    {
     "name": "stdout",
     "output_type": "stream",
     "text": [
      "\r770 / 859: -0.093213, 1.222615"
     ]
    },
    {
     "name": "stdout",
     "output_type": "stream",
     "text": [
      "\r771 / 859: -0.122463, 1.199634"
     ]
    },
    {
     "name": "stdout",
     "output_type": "stream",
     "text": [
      "\r772 / 859: -0.062584, 1.235333"
     ]
    },
    {
     "name": "stdout",
     "output_type": "stream",
     "text": [
      "\r773 / 859: -0.131481, 1.260944"
     ]
    },
    {
     "name": "stdout",
     "output_type": "stream",
     "text": [
      "\r774 / 859: -0.098537, 1.273225"
     ]
    },
    {
     "name": "stdout",
     "output_type": "stream",
     "text": [
      "\r775 / 859: -0.086115, 1.258704"
     ]
    },
    {
     "name": "stdout",
     "output_type": "stream",
     "text": [
      "\r776 / 859: -0.130099, 1.230733"
     ]
    },
    {
     "name": "stdout",
     "output_type": "stream",
     "text": [
      "\r777 / 859: -0.055079, 1.266725"
     ]
    },
    {
     "name": "stdout",
     "output_type": "stream",
     "text": [
      "\r778 / 859: -0.069846, 1.234739"
     ]
    },
    {
     "name": "stdout",
     "output_type": "stream",
     "text": [
      "\r779 / 859: -0.120914, 1.199277"
     ]
    },
    {
     "name": "stdout",
     "output_type": "stream",
     "text": [
      "\r780 / 859: -0.043363, 1.177049"
     ]
    },
    {
     "name": "stdout",
     "output_type": "stream",
     "text": [
      "\r781 / 859: -0.037574, 1.177016"
     ]
    },
    {
     "name": "stdout",
     "output_type": "stream",
     "text": [
      "\r782 / 859: -0.083518, 1.185093"
     ]
    },
    {
     "name": "stdout",
     "output_type": "stream",
     "text": [
      "\r783 / 859: -0.088911, 1.209499"
     ]
    },
    {
     "name": "stdout",
     "output_type": "stream",
     "text": [
      "\r784 / 859: -0.044269, 1.182888"
     ]
    },
    {
     "name": "stdout",
     "output_type": "stream",
     "text": [
      "\r785 / 859: -0.124838, 1.178590"
     ]
    },
    {
     "name": "stdout",
     "output_type": "stream",
     "text": [
      "\r786 / 859: -0.071534, 1.113272"
     ]
    },
    {
     "name": "stdout",
     "output_type": "stream",
     "text": [
      "\r787 / 859: -0.015294, 1.132798"
     ]
    },
    {
     "name": "stdout",
     "output_type": "stream",
     "text": [
      "\r788 / 859: -0.089260, 1.121782"
     ]
    },
    {
     "name": "stdout",
     "output_type": "stream",
     "text": [
      "\r789 / 859: -0.081393, 1.145363"
     ]
    },
    {
     "name": "stdout",
     "output_type": "stream",
     "text": [
      "\r790 / 859: -0.055888, 1.172249"
     ]
    },
    {
     "name": "stdout",
     "output_type": "stream",
     "text": [
      "\r791 / 859: -0.111096, 1.201804"
     ]
    },
    {
     "name": "stdout",
     "output_type": "stream",
     "text": [
      "\r792 / 859: -0.075483, 1.251786"
     ]
    },
    {
     "name": "stdout",
     "output_type": "stream",
     "text": [
      "\r793 / 859: -0.118454, 1.298123"
     ]
    },
    {
     "name": "stdout",
     "output_type": "stream",
     "text": [
      "\r794 / 859: -0.092565, 1.353095"
     ]
    },
    {
     "name": "stdout",
     "output_type": "stream",
     "text": [
      "\r795 / 859: -0.077665, 1.395332"
     ]
    },
    {
     "name": "stdout",
     "output_type": "stream",
     "text": [
      "\r796 / 859: -0.069751, 1.410247"
     ]
    },
    {
     "name": "stdout",
     "output_type": "stream",
     "text": [
      "\r797 / 859: -0.104843, 1.404275"
     ]
    },
    {
     "name": "stdout",
     "output_type": "stream",
     "text": [
      "\r798 / 859: -0.028675, 1.459480"
     ]
    },
    {
     "name": "stdout",
     "output_type": "stream",
     "text": [
      "\r799 / 859: -0.117789, 1.418635"
     ]
    },
    {
     "name": "stdout",
     "output_type": "stream",
     "text": [
      "\r800 / 859: -0.037559, 1.390450"
     ]
    },
    {
     "name": "stdout",
     "output_type": "stream",
     "text": [
      "\r801 / 859: -0.072418, 1.369659"
     ]
    },
    {
     "name": "stdout",
     "output_type": "stream",
     "text": [
      "\r802 / 859: -0.101736, 1.408746"
     ]
    },
    {
     "name": "stdout",
     "output_type": "stream",
     "text": [
      "\r803 / 859: -0.077105, 1.435242"
     ]
    },
    {
     "name": "stdout",
     "output_type": "stream",
     "text": [
      "\r804 / 859: -0.111290, 1.530945"
     ]
    },
    {
     "name": "stdout",
     "output_type": "stream",
     "text": [
      "\r805 / 859: -0.112725, 1.528698"
     ]
    },
    {
     "name": "stdout",
     "output_type": "stream",
     "text": [
      "\r806 / 859: -0.062505, 1.449706"
     ]
    },
    {
     "name": "stdout",
     "output_type": "stream",
     "text": [
      "\r807 / 859: -0.089564, 1.452859"
     ]
    },
    {
     "name": "stdout",
     "output_type": "stream",
     "text": [
      "\r808 / 859: -0.066647, 1.431191"
     ]
    },
    {
     "name": "stdout",
     "output_type": "stream",
     "text": [
      "\r809 / 859: -0.103714, 1.433776"
     ]
    },
    {
     "name": "stdout",
     "output_type": "stream",
     "text": [
      "\r810 / 859: -0.074048, 1.364969"
     ]
    },
    {
     "name": "stdout",
     "output_type": "stream",
     "text": [
      "\r811 / 859: -0.089290, 1.374291"
     ]
    },
    {
     "name": "stdout",
     "output_type": "stream",
     "text": [
      "\r812 / 859: -0.048624, 1.386566"
     ]
    },
    {
     "name": "stdout",
     "output_type": "stream",
     "text": [
      "\r813 / 859: -0.090293, 1.386797"
     ]
    },
    {
     "name": "stdout",
     "output_type": "stream",
     "text": [
      "\r814 / 859: -0.070212, 1.405951"
     ]
    },
    {
     "name": "stdout",
     "output_type": "stream",
     "text": [
      "\r815 / 859: -0.067080, 1.355620"
     ]
    },
    {
     "name": "stdout",
     "output_type": "stream",
     "text": [
      "\r816 / 859: -0.061768, 1.326737"
     ]
    },
    {
     "name": "stdout",
     "output_type": "stream",
     "text": [
      "\r817 / 859: -0.045872, 1.326426"
     ]
    },
    {
     "name": "stdout",
     "output_type": "stream",
     "text": [
      "\r818 / 859: -0.047713, 1.274297"
     ]
    },
    {
     "name": "stdout",
     "output_type": "stream",
     "text": [
      "\r819 / 859: -0.052770, 1.276437"
     ]
    },
    {
     "name": "stdout",
     "output_type": "stream",
     "text": [
      "\r820 / 859: -0.085530, 1.209608"
     ]
    },
    {
     "name": "stdout",
     "output_type": "stream",
     "text": [
      "\r821 / 859: -0.069484, 1.213393"
     ]
    },
    {
     "name": "stdout",
     "output_type": "stream",
     "text": [
      "\r822 / 859: -0.038793, 1.154122"
     ]
    },
    {
     "name": "stdout",
     "output_type": "stream",
     "text": [
      "\r823 / 859: -0.092164, 1.172527"
     ]
    },
    {
     "name": "stdout",
     "output_type": "stream",
     "text": [
      "\r824 / 859: -0.046729, 1.163634"
     ]
    },
    {
     "name": "stdout",
     "output_type": "stream",
     "text": [
      "\r825 / 859: -0.087073, 1.095104"
     ]
    },
    {
     "name": "stdout",
     "output_type": "stream",
     "text": [
      "\r826 / 859: -0.062847, 1.089206"
     ]
    },
    {
     "name": "stdout",
     "output_type": "stream",
     "text": [
      "\r827 / 859: -0.066702, 1.134037"
     ]
    },
    {
     "name": "stdout",
     "output_type": "stream",
     "text": [
      "\r828 / 859: -0.053375, 1.145937"
     ]
    },
    {
     "name": "stdout",
     "output_type": "stream",
     "text": [
      "\r829 / 859: -0.058500, 1.109467"
     ]
    },
    {
     "name": "stdout",
     "output_type": "stream",
     "text": [
      "\r830 / 859: -0.041088, 1.196986"
     ]
    },
    {
     "name": "stdout",
     "output_type": "stream",
     "text": [
      "\r831 / 859: -0.123195, 1.189090"
     ]
    },
    {
     "name": "stdout",
     "output_type": "stream",
     "text": [
      "\r832 / 859: -0.064750, 1.188696"
     ]
    },
    {
     "name": "stdout",
     "output_type": "stream",
     "text": [
      "\r833 / 859: -0.054922, 1.181006"
     ]
    },
    {
     "name": "stdout",
     "output_type": "stream",
     "text": [
      "\r834 / 859: -0.086733, 1.212762"
     ]
    },
    {
     "name": "stdout",
     "output_type": "stream",
     "text": [
      "\r835 / 859: -0.091030, 1.184698"
     ]
    },
    {
     "name": "stdout",
     "output_type": "stream",
     "text": [
      "\r836 / 859: -0.057695, 1.201729"
     ]
    },
    {
     "name": "stdout",
     "output_type": "stream",
     "text": [
      "\r837 / 859: -0.046162, 1.220876"
     ]
    },
    {
     "name": "stdout",
     "output_type": "stream",
     "text": [
      "\r838 / 859: -0.062249, 1.239197"
     ]
    },
    {
     "name": "stdout",
     "output_type": "stream",
     "text": [
      "\r839 / 859: -0.089131, 1.270391"
     ]
    },
    {
     "name": "stdout",
     "output_type": "stream",
     "text": [
      "\r840 / 859: -0.049484, 1.278400"
     ]
    },
    {
     "name": "stdout",
     "output_type": "stream",
     "text": [
      "\r841 / 859: -0.096666, 1.289418"
     ]
    },
    {
     "name": "stdout",
     "output_type": "stream",
     "text": [
      "\r842 / 859: -0.093503, 1.352271"
     ]
    },
    {
     "name": "stdout",
     "output_type": "stream",
     "text": [
      "\r843 / 859: -0.146994, 1.334241"
     ]
    },
    {
     "name": "stdout",
     "output_type": "stream",
     "text": [
      "\r844 / 859: -0.064068, 1.365328"
     ]
    },
    {
     "name": "stdout",
     "output_type": "stream",
     "text": [
      "\r845 / 859: -0.075502, 1.368675"
     ]
    },
    {
     "name": "stdout",
     "output_type": "stream",
     "text": [
      "\r846 / 859: -0.063202, 1.420766"
     ]
    },
    {
     "name": "stdout",
     "output_type": "stream",
     "text": [
      "\r847 / 859: -0.104249, 1.469952"
     ]
    },
    {
     "name": "stdout",
     "output_type": "stream",
     "text": [
      "\r848 / 859: -0.104688, 1.531771"
     ]
    },
    {
     "name": "stdout",
     "output_type": "stream",
     "text": [
      "\r849 / 859: -0.068687, 1.655284"
     ]
    },
    {
     "name": "stdout",
     "output_type": "stream",
     "text": [
      "\r850 / 859: -0.080275, 1.647478"
     ]
    },
    {
     "name": "stdout",
     "output_type": "stream",
     "text": [
      "\r851 / 859: -0.059568, 1.637817"
     ]
    },
    {
     "name": "stdout",
     "output_type": "stream",
     "text": [
      "\r852 / 859: -0.080254, 1.671561"
     ]
    },
    {
     "name": "stdout",
     "output_type": "stream",
     "text": [
      "\r853 / 859: -0.058984, 1.772122"
     ]
    },
    {
     "name": "stdout",
     "output_type": "stream",
     "text": [
      "\r854 / 859: -0.138111, 1.778332"
     ]
    },
    {
     "name": "stdout",
     "output_type": "stream",
     "text": [
      "\r855 / 859: -0.082785, 1.794273"
     ]
    },
    {
     "name": "stdout",
     "output_type": "stream",
     "text": [
      "\r856 / 859: -0.056936, 1.752149"
     ]
    },
    {
     "name": "stdout",
     "output_type": "stream",
     "text": [
      "\r857 / 859: -0.078960, 1.720434"
     ]
    },
    {
     "name": "stdout",
     "output_type": "stream",
     "text": [
      "\r858 / 859: -0.043878, 1.687945"
     ]
    },
    {
     "ename": "FileNotFoundError",
     "evalue": "[Errno 2] No such file or directory: './output/1.png'",
     "traceback": [
      "\u001b[0;31m---------------------------------------------------------------------------\u001b[0m",
      "\u001b[0;31mFileNotFoundError\u001b[0m                         Traceback (most recent call last)",
      "\u001b[0;32m<ipython-input-12-cbd1e36dfb10>\u001b[0m in \u001b[0;36m<module>\u001b[0;34m()\u001b[0m\n\u001b[1;32m     23\u001b[0m \u001b[0;34m\u001b[0m\u001b[0m\n\u001b[1;32m     24\u001b[0m         \u001b[0mdata\u001b[0m \u001b[0;34m=\u001b[0m \u001b[0msess\u001b[0m\u001b[0;34m.\u001b[0m\u001b[0mrun\u001b[0m\u001b[0;34m(\u001b[0m\u001b[0mG\u001b[0m\u001b[0;34m,\u001b[0m \u001b[0;34m{\u001b[0m\u001b[0mz\u001b[0m\u001b[0;34m:\u001b[0m \u001b[0mrand\u001b[0m\u001b[0;34m}\u001b[0m\u001b[0;34m)\u001b[0m\u001b[0;34m\u001b[0m\u001b[0m\n\u001b[0;32m---> 25\u001b[0;31m         \u001b[0mplot\u001b[0m\u001b[0;34m(\u001b[0m\u001b[0mdata\u001b[0m\u001b[0;34m,\u001b[0m \u001b[0mD_loss_vals\u001b[0m\u001b[0;34m,\u001b[0m \u001b[0mG_loss_vals\u001b[0m\u001b[0;34m,\u001b[0m \u001b[0me\u001b[0m\u001b[0;34m,\u001b[0m \u001b[0mEPOCHS\u001b[0m \u001b[0;34m*\u001b[0m \u001b[0miteration\u001b[0m\u001b[0;34m)\u001b[0m\u001b[0;34m\u001b[0m\u001b[0m\n\u001b[0m",
      "\u001b[0;32m<ipython-input-6-0a842e95222d>\u001b[0m in \u001b[0;36mplot\u001b[0;34m(samples, D_loss, G_loss, epoch, total)\u001b[0m\n\u001b[1;32m     26\u001b[0m         \u001b[0mplt\u001b[0m\u001b[0;34m.\u001b[0m\u001b[0mimshow\u001b[0m\u001b[0;34m(\u001b[0m\u001b[0msample\u001b[0m\u001b[0;34m.\u001b[0m\u001b[0mreshape\u001b[0m\u001b[0;34m(\u001b[0m\u001b[0;36m28\u001b[0m\u001b[0;34m,\u001b[0m \u001b[0;36m28\u001b[0m\u001b[0;34m)\u001b[0m\u001b[0;34m,\u001b[0m \u001b[0mcmap\u001b[0m\u001b[0;34m=\u001b[0m\u001b[0;34m'Greys_r'\u001b[0m\u001b[0;34m)\u001b[0m\u001b[0;34m\u001b[0m\u001b[0m\n\u001b[1;32m     27\u001b[0m \u001b[0;34m\u001b[0m\u001b[0m\n\u001b[0;32m---> 28\u001b[0;31m     \u001b[0mplt\u001b[0m\u001b[0;34m.\u001b[0m\u001b[0msavefig\u001b[0m\u001b[0;34m(\u001b[0m\u001b[0;34m'./output/'\u001b[0m \u001b[0;34m+\u001b[0m \u001b[0mstr\u001b[0m\u001b[0;34m(\u001b[0m\u001b[0mepoch\u001b[0m \u001b[0;34m+\u001b[0m \u001b[0;36m1\u001b[0m\u001b[0;34m)\u001b[0m \u001b[0;34m+\u001b[0m \u001b[0;34m'.png'\u001b[0m\u001b[0;34m)\u001b[0m\u001b[0;34m\u001b[0m\u001b[0m\n\u001b[0m\u001b[1;32m     29\u001b[0m     \u001b[0mplt\u001b[0m\u001b[0;34m.\u001b[0m\u001b[0mclose\u001b[0m\u001b[0;34m(\u001b[0m\u001b[0;34m)\u001b[0m\u001b[0;34m\u001b[0m\u001b[0m\n",
      "\u001b[0;32m~/anaconda2/envs/tensorflow3/lib/python3.6/site-packages/matplotlib/pyplot.py\u001b[0m in \u001b[0;36msavefig\u001b[0;34m(*args, **kwargs)\u001b[0m\n\u001b[1;32m    695\u001b[0m \u001b[0;32mdef\u001b[0m \u001b[0msavefig\u001b[0m\u001b[0;34m(\u001b[0m\u001b[0;34m*\u001b[0m\u001b[0margs\u001b[0m\u001b[0;34m,\u001b[0m \u001b[0;34m**\u001b[0m\u001b[0mkwargs\u001b[0m\u001b[0;34m)\u001b[0m\u001b[0;34m:\u001b[0m\u001b[0;34m\u001b[0m\u001b[0m\n\u001b[1;32m    696\u001b[0m     \u001b[0mfig\u001b[0m \u001b[0;34m=\u001b[0m \u001b[0mgcf\u001b[0m\u001b[0;34m(\u001b[0m\u001b[0;34m)\u001b[0m\u001b[0;34m\u001b[0m\u001b[0m\n\u001b[0;32m--> 697\u001b[0;31m     \u001b[0mres\u001b[0m \u001b[0;34m=\u001b[0m \u001b[0mfig\u001b[0m\u001b[0;34m.\u001b[0m\u001b[0msavefig\u001b[0m\u001b[0;34m(\u001b[0m\u001b[0;34m*\u001b[0m\u001b[0margs\u001b[0m\u001b[0;34m,\u001b[0m \u001b[0;34m**\u001b[0m\u001b[0mkwargs\u001b[0m\u001b[0;34m)\u001b[0m\u001b[0;34m\u001b[0m\u001b[0m\n\u001b[0m\u001b[1;32m    698\u001b[0m     \u001b[0mfig\u001b[0m\u001b[0;34m.\u001b[0m\u001b[0mcanvas\u001b[0m\u001b[0;34m.\u001b[0m\u001b[0mdraw_idle\u001b[0m\u001b[0;34m(\u001b[0m\u001b[0;34m)\u001b[0m   \u001b[0;31m# need this if 'transparent=True' to reset colors\u001b[0m\u001b[0;34m\u001b[0m\u001b[0m\n\u001b[1;32m    699\u001b[0m     \u001b[0;32mreturn\u001b[0m \u001b[0mres\u001b[0m\u001b[0;34m\u001b[0m\u001b[0m\n",
      "\u001b[0;32m~/anaconda2/envs/tensorflow3/lib/python3.6/site-packages/matplotlib/figure.py\u001b[0m in \u001b[0;36msavefig\u001b[0;34m(self, fname, **kwargs)\u001b[0m\n\u001b[1;32m   1812\u001b[0m             \u001b[0mself\u001b[0m\u001b[0;34m.\u001b[0m\u001b[0mset_frameon\u001b[0m\u001b[0;34m(\u001b[0m\u001b[0mframeon\u001b[0m\u001b[0;34m)\u001b[0m\u001b[0;34m\u001b[0m\u001b[0m\n\u001b[1;32m   1813\u001b[0m \u001b[0;34m\u001b[0m\u001b[0m\n\u001b[0;32m-> 1814\u001b[0;31m         \u001b[0mself\u001b[0m\u001b[0;34m.\u001b[0m\u001b[0mcanvas\u001b[0m\u001b[0;34m.\u001b[0m\u001b[0mprint_figure\u001b[0m\u001b[0;34m(\u001b[0m\u001b[0mfname\u001b[0m\u001b[0;34m,\u001b[0m \u001b[0;34m**\u001b[0m\u001b[0mkwargs\u001b[0m\u001b[0;34m)\u001b[0m\u001b[0;34m\u001b[0m\u001b[0m\n\u001b[0m\u001b[1;32m   1815\u001b[0m \u001b[0;34m\u001b[0m\u001b[0m\n\u001b[1;32m   1816\u001b[0m         \u001b[0;32mif\u001b[0m \u001b[0mframeon\u001b[0m\u001b[0;34m:\u001b[0m\u001b[0;34m\u001b[0m\u001b[0m\n",
      "\u001b[0;32m~/anaconda2/envs/tensorflow3/lib/python3.6/site-packages/matplotlib/backend_bases.py\u001b[0m in \u001b[0;36mprint_figure\u001b[0;34m(self, filename, dpi, facecolor, edgecolor, orientation, format, **kwargs)\u001b[0m\n\u001b[1;32m   2257\u001b[0m                 \u001b[0morientation\u001b[0m\u001b[0;34m=\u001b[0m\u001b[0morientation\u001b[0m\u001b[0;34m,\u001b[0m\u001b[0;34m\u001b[0m\u001b[0m\n\u001b[1;32m   2258\u001b[0m                 \u001b[0mbbox_inches_restore\u001b[0m\u001b[0;34m=\u001b[0m\u001b[0m_bbox_inches_restore\u001b[0m\u001b[0;34m,\u001b[0m\u001b[0;34m\u001b[0m\u001b[0m\n\u001b[0;32m-> 2259\u001b[0;31m                 **kwargs)\n\u001b[0m\u001b[1;32m   2260\u001b[0m         \u001b[0;32mfinally\u001b[0m\u001b[0;34m:\u001b[0m\u001b[0;34m\u001b[0m\u001b[0m\n\u001b[1;32m   2261\u001b[0m             \u001b[0;32mif\u001b[0m \u001b[0mbbox_inches\u001b[0m \u001b[0;32mand\u001b[0m \u001b[0mrestore_bbox\u001b[0m\u001b[0;34m:\u001b[0m\u001b[0;34m\u001b[0m\u001b[0m\n",
      "\u001b[0;32m~/anaconda2/envs/tensorflow3/lib/python3.6/site-packages/matplotlib/backends/backend_agg.py\u001b[0m in \u001b[0;36mprint_png\u001b[0;34m(self, filename_or_obj, *args, **kwargs)\u001b[0m\n\u001b[1;32m    510\u001b[0m         \u001b[0mrenderer\u001b[0m\u001b[0;34m.\u001b[0m\u001b[0mdpi\u001b[0m \u001b[0;34m=\u001b[0m \u001b[0mself\u001b[0m\u001b[0;34m.\u001b[0m\u001b[0mfigure\u001b[0m\u001b[0;34m.\u001b[0m\u001b[0mdpi\u001b[0m\u001b[0;34m\u001b[0m\u001b[0m\n\u001b[1;32m    511\u001b[0m         \u001b[0;32mif\u001b[0m \u001b[0misinstance\u001b[0m\u001b[0;34m(\u001b[0m\u001b[0mfilename_or_obj\u001b[0m\u001b[0;34m,\u001b[0m \u001b[0msix\u001b[0m\u001b[0;34m.\u001b[0m\u001b[0mstring_types\u001b[0m\u001b[0;34m)\u001b[0m\u001b[0;34m:\u001b[0m\u001b[0;34m\u001b[0m\u001b[0m\n\u001b[0;32m--> 512\u001b[0;31m             \u001b[0mfilename_or_obj\u001b[0m \u001b[0;34m=\u001b[0m \u001b[0mopen\u001b[0m\u001b[0;34m(\u001b[0m\u001b[0mfilename_or_obj\u001b[0m\u001b[0;34m,\u001b[0m \u001b[0;34m'wb'\u001b[0m\u001b[0;34m)\u001b[0m\u001b[0;34m\u001b[0m\u001b[0m\n\u001b[0m\u001b[1;32m    513\u001b[0m             \u001b[0mclose\u001b[0m \u001b[0;34m=\u001b[0m \u001b[0;32mTrue\u001b[0m\u001b[0;34m\u001b[0m\u001b[0m\n\u001b[1;32m    514\u001b[0m         \u001b[0;32melse\u001b[0m\u001b[0;34m:\u001b[0m\u001b[0;34m\u001b[0m\u001b[0m\n",
      "\u001b[0;31mFileNotFoundError\u001b[0m: [Errno 2] No such file or directory: './output/1.png'"
     ],
     "output_type": "error"
    },
    {
     "data": {
      "image/png": "[encoded data removed]",
      "text/plain": [
       "<matplotlib.figure.Figure at 0x7faf74253be0>"
      ]
     },
     "metadata": {},
     "output_type": "display_data"
    }
   ],
   "source": [
    "with tf.Session() as sess:\n",
    "\n",
    "    sess.run(tf.global_variables_initializer())\n",
    "    \n",
    "    D_loss_vals = []\n",
    "    G_loss_vals = []\n",
    "\n",
    "    iteration = int(mnist.train.images.shape[0] / BATCH_SIZE)\n",
    "    for e in range(EPOCHS):\n",
    "\n",
    "        for i in range(iteration):\n",
    "            x, _ = mnist.train.next_batch(BATCH_SIZE)\n",
    "            rand = np.random.uniform(0., 1., size=[BATCH_SIZE, 100])\n",
    "            _, D_loss_curr = sess.run([D_solver, D_loss], {X: x, z: rand})\n",
    "            rand = np.random.uniform(0., 1., size=[BATCH_SIZE, 100])\n",
    "            _, G_loss_curr = sess.run([G_solver, G_loss], {z: rand})\n",
    "\n",
    "            D_loss_vals.append(D_loss_curr)\n",
    "            G_loss_vals.append(G_loss_curr)\n",
    "\n",
    "            sys.stdout.write(\"\\r%d / %d: %f, %f\" % (i, iteration, D_loss_curr, G_loss_curr))\n",
    "            sys.stdout.flush()\n",
    "\n",
    "        data = sess.run(G, {z: rand})\n",
    "        plot(data, D_loss_vals, G_loss_vals, e, EPOCHS * iteration)"
   ]
  },
  {
   "cell_type": "code",
   "execution_count": null,
   "metadata": {},
   "outputs": [],
   "source": []
  }
 ],
 "metadata": {
  "kernelspec": {
   "display_name": "Python 2",
   "language": "python",
   "name": "python2"
  },
  "language_info": {
   "codemirror_mode": {
    "name": "ipython",
    "version": 2
   },
   "file_extension": ".py",
   "mimetype": "text/x-python",
   "name": "python",
   "nbconvert_exporter": "python",
   "pygments_lexer": "ipython2",
   "version": "2.7.6"
  }
 },
 "nbformat": 4,
 "nbformat_minor": 0
}

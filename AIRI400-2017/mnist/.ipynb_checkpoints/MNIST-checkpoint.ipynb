{
 "cells": [
  {
   "cell_type": "code",
   "execution_count": 4,
   "metadata": {},
   "outputs": [
    {
     "ename": "IndentationError",
     "evalue": "unindent does not match any outer indentation level (<tokenize>, line 28)",
     "output_type": "error",
     "traceback": [
      "\u001b[0;36m  File \u001b[0;32m\"<tokenize>\"\u001b[0;36m, line \u001b[0;32m28\u001b[0m\n\u001b[0;31m    print(data)\u001b[0m\n\u001b[0m    ^\u001b[0m\n\u001b[0;31mIndentationError\u001b[0m\u001b[0;31m:\u001b[0m unindent does not match any outer indentation level\n"
     ]
    }
   ],
   "source": [
    "import tensorflow as tf\n",
    "import numpy as np\n",
    "from PIL import Image\n",
    "\n",
    "X = tf.placeholder(shape=[None, 784], dtype=tf.float32)\n",
    "Y = tf.placeholder(shape=[None], dtype=tf.uint8)\n",
    "W = tf.Variable(tf.zeros([784, 10]))\n",
    "B = tf.Variable(tf.zeros([10]))\n",
    "Y_one = tf.one_hot(Y, 10, axis=1)\n",
    "\n",
    "H = tf.matmul(X, W) + B\n",
    "loss = tf.reduce_mean(tf.nn.softmax_cross_entropy_with_logits(labels=Y_one, logits=H))\n",
    "\n",
    "optimizer = tf.train.AdamOptimizer(learning_rate=0.001)\n",
    "train_op = optimizer.minimize(loss)\n",
    "\n",
    "# acc\n",
    "test_val = tf.nn.softmax(H)\n",
    "Accuracy = tf.reduce_mean(tf.cast(tf.equal(tf.argmax(test_val, 1), tf.argmax(Y_one, 1)), dtype=tf.float32))\n",
    "\n",
    "#saver\n",
    "saver = tf.train.Saver()\n",
    "\n",
    "with tf.Session() as sess:\n",
    "\tsess.run(tf.global_variables_initializer())\n",
    "\tsaver.restore(sess, \"./weight_image/my-model-5\")\n",
    "\tdata = sess.run(W)\n",
    "    print(data.shape)\n",
    "# \ttrans_data = data.transpose()\n",
    "# \tfor i in range(0, 9):\n",
    "# \t\ta = (trans_data[i].reshape(28,28))\n",
    "# \t\timg = Image.fromarray(a)\n",
    "# \t\timg.show()\n"
   ]
  },
  {
   "cell_type": "code",
   "execution_count": null,
   "metadata": {
    "collapsed": true
   },
   "outputs": [],
   "source": []
  }
 ],
 "metadata": {
  "kernelspec": {
   "display_name": "Python 3",
   "language": "python",
   "name": "python3"
  },
  "language_info": {
   "codemirror_mode": {
    "name": "ipython",
    "version": 3
   },
   "file_extension": ".py",
   "mimetype": "text/x-python",
   "name": "python",
   "nbconvert_exporter": "python",
   "pygments_lexer": "ipython3",
   "version": "3.5.4"
  }
 },
 "nbformat": 4,
 "nbformat_minor": 2
}

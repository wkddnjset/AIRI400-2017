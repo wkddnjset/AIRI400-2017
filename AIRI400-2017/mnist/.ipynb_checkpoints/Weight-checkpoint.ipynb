{
 "cells": [
  {
   "cell_type": "code",
   "execution_count": 5,
   "metadata": {},
   "outputs": [
    {
     "name": "stdout",
     "output_type": "stream",
     "text": [
      "INFO:tensorflow:Restoring parameters from ./weight_image/my-model-5\n",
      "<PIL.Image.Image image mode=F size=28x28 at 0x7F1CD4DAF4E0>\n",
      "<PIL.Image.Image image mode=F size=28x28 at 0x7F1CD4DAF588>\n",
      "<PIL.Image.Image image mode=F size=28x28 at 0x7F1CD4DAF160>\n",
      "<PIL.Image.Image image mode=F size=28x28 at 0x7F1CD52F6438>\n",
      "<PIL.Image.Image image mode=F size=28x28 at 0x7F1CD4DAF4E0>\n",
      "<PIL.Image.Image image mode=F size=28x28 at 0x7F1CD4DAF630>\n",
      "<PIL.Image.Image image mode=F size=28x28 at 0x7F1CD4DAF160>\n",
      "<PIL.Image.Image image mode=F size=28x28 at 0x7F1CD4DAF588>\n",
      "<PIL.Image.Image image mode=F size=28x28 at 0x7F1CD4DAF4E0>\n"
     ]
    }
   ],
   "source": [
    "import tensorflow as tf\n",
    "import numpy as np\n",
    "from PIL import Image\n",
    "\n",
    "X = tf.placeholder(shape=[None, 784], dtype=tf.float32)\n",
    "Y = tf.placeholder(shape=[None], dtype=tf.uint8)\n",
    "W = tf.Variable(tf.zeros([784, 10]))\n",
    "B = tf.Variable(tf.zeros([10]))\n",
    "Y_one = tf.one_hot(Y, 10, axis=1)\n",
    "\n",
    "H = tf.matmul(X, W) + B\n",
    "loss = tf.reduce_mean(tf.nn.softmax_cross_entropy_with_logits(labels=Y_one, logits=H))\n",
    "\n",
    "optimizer = tf.train.AdamOptimizer(learning_rate=0.001)\n",
    "train_op = optimizer.minimize(loss)\n",
    "\n",
    "# acc\n",
    "test_val = tf.nn.softmax(H)\n",
    "Accuracy = tf.reduce_mean(tf.cast(tf.equal(tf.argmax(test_val, 1), tf.argmax(Y_one, 1)), dtype=tf.float32))\n",
    "\n",
    "#saver\n",
    "saver = tf.train.Saver()\n",
    "\n",
    "with tf.Session() as sess:\n",
    "    sess.run(tf.global_variables_initializer())\n",
    "    saver.restore(sess, \"./weight_image/my-model-5\")\n",
    "    data = sess.run(W)\n",
    "    trans_data = data.transpose()\n",
    "    for i in range(0, 10):\n",
    "        a = (trans_data[i].reshape(28,28))\n",
    "        img = Image.fromarray(a)\n",
    "        print(img)\n",
    "        img.show()"
   ]
  },
  {
   "cell_type": "code",
   "execution_count": null,
   "metadata": {
    "collapsed": true
   },
   "outputs": [],
   "source": []
  }
 ],
 "metadata": {
  "kernelspec": {
   "display_name": "Python 3",
   "language": "python",
   "name": "python3"
  },
  "language_info": {
   "codemirror_mode": {
    "name": "ipython",
    "version": 3
   },
   "file_extension": ".py",
   "mimetype": "text/x-python",
   "name": "python",
   "nbconvert_exporter": "python",
   "pygments_lexer": "ipython3",
   "version": "3.5.4"
  }
 },
 "nbformat": 4,
 "nbformat_minor": 2
}

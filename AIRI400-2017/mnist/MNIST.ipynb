{
 "cells": [
  {
   "cell_type": "code",
   "execution_count": 8,
   "metadata": {},
   "outputs": [
    {
     "name": "stdout",
     "output_type": "stream",
     "text": [
      "epoch : 0\n",
      "=> loss :  1.86807203293\n",
      "epoch : 1\n",
      "=> loss :  1.44663047791\n",
      "epoch : 2\n",
      "=> loss :  1.14996469021\n",
      "epoch : 3\n",
      "=> loss :  0.95136153698\n",
      "epoch : 4\n",
      "=> loss :  0.81681150198\n",
      "epoch : 5\n",
      "=> loss :  0.723884046078\n",
      "epoch : 6\n",
      "=> loss :  0.657644987106\n",
      "epoch : 7\n",
      "=> loss :  0.608035326004\n",
      "epoch : 8\n",
      "=> loss :  0.570468068123\n",
      "epoch : 9\n",
      "=> loss :  0.540292978287\n",
      "Accuracy :  [0.86900008]\n"
     ]
    }
   ],
   "source": [
    "import tensorflow as tf\n",
    "import numpy as np\n",
    "\n",
    "fd = open('train-images.idx3-ubyte')\n",
    "train_images = np.fromfile(file=fd,dtype=np.uint8)\n",
    "fd = open('train-labels.idx1-ubyte')\n",
    "train_labels = np.fromfile(file=fd,dtype=np.uint8)\n",
    "fd = open('t10k-images.idx3-ubyte')\n",
    "test_images = np.fromfile(file=fd,dtype=np.uint8)\n",
    "fd = open('t10k-labels.idx1-ubyte')\n",
    "test_labels = np.fromfile(file=fd,dtype=np.uint8)\n",
    "\n",
    "train_images = (train_images[16:]/127-1).reshape([-1, 784]).astype(np.float)\n",
    "train_labels = train_labels[8:].reshape([-1,]).astype(np.int)\n",
    "test_images = (test_images[16:]/127-1).reshape([-1, 784]).astype(np.float)\n",
    "test_labels = test_labels[8:].reshape([-1]).astype(np.int)\n",
    "\n",
    "X = tf.placeholder(shape=[None, 784], dtype=tf.float32)\n",
    "Y = tf.placeholder(shape=[None], dtype=tf.uint8)\n",
    "W = tf.Variable(tf.zeros([784, 10]))\n",
    "B = tf.Variable(tf.zeros([10]))\n",
    "Y_one = tf.one_hot(Y, 10, axis=1)\n",
    "\n",
    "H = tf.matmul(X, W) + B\n",
    "loss = tf.reduce_mean(tf.nn.softmax_cross_entropy_with_logits(labels=Y_one, logits=H))\n",
    "\n",
    "optimizer = tf.train.AdamOptimizer(learning_rate=0.001)\n",
    "train_op = optimizer.minimize(loss)\n",
    "\n",
    "# acc\n",
    "test_val = tf.nn.softmax(H)\n",
    "Accuracy = tf.reduce_mean(tf.cast(tf.equal(tf.argmax(test_val, 1), tf.argmax(Y_one, 1)), dtype=tf.float32))\n",
    "\n",
    "#saver\n",
    "saver = tf.train.Saver()\n",
    "\n",
    "with tf.Session() as sess:\n",
    "\tsess.run(tf.global_variables_initializer())\n",
    "\n",
    "\tepoch = 10\n",
    "\tfor i in range (epoch):\n",
    "\t\tprint(\"epoch :\", i)\n",
    "\t\tbatch_size = 10000\n",
    "\t\tbatch_count = 60000 // batch_size\n",
    "\t\tloss_total = 0\n",
    "\t\tfor i in range (batch_count):\n",
    "\t\t\tbatch_index = i * batch_size\n",
    "\t\t\timg = train_images[batch_index:batch_index+batch_size]\n",
    "\t\t\tlabel = train_labels[batch_index:batch_index+batch_size]\n",
    "\t\t\t# one = np.zeros((batch_index+batch_size,10))\n",
    "\t\t\t# one[np.arange(9), label] = 1\n",
    "\t\t\t# label = tf.one_hot(train_labels[i:batch_index+batch_size], 10, axis=1)\n",
    "\t\t\t_, loss_value = sess.run([train_op, loss], feed_dict={X:img, Y:label})\n",
    "\t\tloss_total += loss_value\n",
    "\t\tprint(\"=> loss : \", loss_total)\n",
    "\t\t\t# print(\"batch \",i,\"=> loss : \", loss_total)\n",
    "\t\tsaver.save(sess, './weight_image/my-model', global_step=i)\n",
    "\t# acc\n",
    "\ttest_img = test_images[:]\n",
    "\ttest_label = test_labels[:]\n",
    "\tacc = sess.run([Accuracy], feed_dict={X:test_img, Y:test_label})\n",
    "\tprint(\"Accuracy : \", acc)\n",
    "\t\n",
    "\timg = sess.run(W)"
   ]
  },
  {
   "cell_type": "code",
   "execution_count": null,
   "metadata": {
    "collapsed": true
   },
   "outputs": [],
   "source": []
  }
 ],
 "metadata": {
  "kernelspec": {
   "display_name": "Python 3",
   "language": "python",
   "name": "python3"
  },
  "language_info": {
   "codemirror_mode": {
    "name": "ipython",
    "version": 3
   },
   "file_extension": ".py",
   "mimetype": "text/x-python",
   "name": "python",
   "nbconvert_exporter": "python",
   "pygments_lexer": "ipython3",
   "version": "3.5.4"
  }
 },
 "nbformat": 4,
 "nbformat_minor": 2
}

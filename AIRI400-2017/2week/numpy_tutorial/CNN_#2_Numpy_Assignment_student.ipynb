{
 "cells": [
  {
   "cell_type": "markdown",
   "metadata": {
    "collapsed": true
   },
   "source": [
    "# Assignmet 1 다항식 구현\n",
    "다항식  \\\\(p(x) = {c}{0} + {c}{1}{x} + {c}{2}{x}^{2}\\\\)\n",
    "이때 x와 y의 값은 아래와 같다.\n",
    " * (-1,1), (0,-1), (2,7)\n",
    "\n",
    "x 벡터 (-1,0,2),  y 벡터(1,-1,7)을 입력 받아 \n",
    "c0, c1, c2의 값을 구하는 함수 quad_interp 구현하시오\n",
    "<br/>\n",
    "<br/>\n",
    "TIP <br/>\n",
    " - 1 = c0 + -1*c1 + 1*c2\n",
    " - -1 = c0 + 0*c1 + 0*c2\n",
    " - 7 = c0 + 2*c1 + 4*c2"
   ]
  },
  {
   "cell_type": "code",
   "execution_count": 10,
   "metadata": {},
   "outputs": [
    {
     "data": {
      "text/plain": [
       "array([[ -1.00000000e+00],\n",
       "       [ -1.11022302e-16],\n",
       "       [  2.00000000e+00]])"
      ]
     },
     "execution_count": 10,
     "metadata": {},
     "output_type": "execute_result"
    }
   ],
   "source": [
    "import numpy as np\n",
    "\n",
    "xi = np.array([-1.,  0.,  2.])\n",
    "yi = np.array([ 1., -1.,  7.])\n",
    "\n",
    "yi_T = (yi[:, np.newaxis])\n",
    "x_T = [[1,-1,1],[1,0,0],[1,2,4]]\n",
    "x_T_inv = np.linalg.inv(x_T)\n",
    "np.matmul(x_T_inv, yi_T)\n",
    "# c = quad_interp(xi,yi)"
   ]
  },
  {
   "cell_type": "markdown",
   "metadata": {
    "collapsed": true
   },
   "source": [
    "## Assignment 2 Softmax cross entropy 구현\n",
    "\n",
    " softmax function은 exponential 을 이용해 normalized 하는 함수로\n",
    " k 차원 벡터 z의 softmax function은 아래와 같다.\n",
    " ![title1](./softmax.png)\n",
    " \n",
    " 또한 predict 확률을 q(x) 정답 확률을 p(x) 라고 할때 cross entropy 함수는 아래와 같다.\n",
    " ![title2](./crossentropy.png)\n",
    " \n",
    "  위 두가지 공식을 이용하여 아래 딥러닝 preidct 값을 softmax로 normalize 후 cross entropy 함수를 numpy로 구현하여 loss 값을 구하시오. <br /> 또한 구현한 numpy cross entropy 값을 tf.nn.softmax_cross_entropy_with_logits함수 결과값과 비교하시오\n",
    " * predict = [1.0, 2.0, 3.0, 4.0, 1.0, 2.0, 3.0]\n",
    " * label = [0, 0, 0, 1, 0, 0, 0]\n",
    "\n"
   ]
  },
  {
   "cell_type": "code",
   "execution_count": 30,
   "metadata": {},
   "outputs": [
    {
     "name": "stdout",
     "output_type": "stream",
     "text": [
      "0.744792116252 0.744792116252\n"
     ]
    }
   ],
   "source": [
    "import tensorflow as tf\n",
    "import numpy as np\n",
    "\n",
    "a = np.array([1.0, 2.0, 3.0, 4.0, 1.0, 2.0, 3.0],dtype='f8')\n",
    "sess = tf.Session()\n",
    "softmax = tf.nn.softmax(a)\n",
    "predict = sess.run(softmax)\n",
    "\n",
    "label = np.array([0, 0, 0, 1.0, 0, 0, 0])\n",
    "\n",
    "num_ = -np.sum(np.matmul(label,np.log(predict)))\n",
    "\n",
    "ten_ = tf.nn.softmax_cross_entropy_with_logits(logits=a, labels=label)\n",
    "\n",
    "print(num_, sess.run(ten_))"
   ]
  },
  {
   "cell_type": "markdown",
   "metadata": {},
   "source": [
    "## Assignment 3 Game of life 구현\n",
    "\n",
    " John Conway가 고안한 세포 자동생성자 게임.\n",
    " 초기 값을 세팅하고 세포가 진화하는 과정을 관찰하는 게임.\n",
    " \n",
    " 위키링크: https://en.wikipedia.org/wiki/Conway%27s_Game_of_Life <br\\>\n",
    " \n",
    " game of life는 2차원 세계로 이루 어져 있으며, 각각의 세포는 live 또는 dead의 상태를 갖는다. <br\\>\n",
    " 또한 세포의 상태는 8방향의 이웃 세포에 의해 결정되며 규칙은 아래와 같다.\n",
    " * Live cell 주변에 Live cell이 2개 또는 3개 있으면 다음 세대에서도 생존한다. (live state)\n",
    " * 이외의 모든 조건에서는 죽는다. (dead state)\n",
    " * Dead cell 주변에 Live cell이 3개 있으면 다음 세대에서 부활한다. (live state)\n",
    " * 이외의 모든 조건에서는 죽는다. (dead state)\n",
    "<br/>\n",
    "<br/>\n",
    " TIP <br/>\n",
    "- 이미지에 padding을 한후 numpy slicing을 이용하면 전체 이미지 8방향에 대해 이웃을 count 할수 있다."
   ]
  },
  {
   "cell_type": "code",
   "execution_count": 1,
   "metadata": {
    "scrolled": true
   },
   "outputs": [
    {
     "data": {
      "image/png": "[encoded data removed]",
      "text/plain": [
       "<matplotlib.figure.Figure at 0x7f10ae75a860>"
      ]
     },
     "metadata": {},
     "output_type": "display_data"
    },
    {
     "ename": "NameError",
     "evalue": "name 'res_Z' is not defined",
     "output_type": "error",
     "traceback": [
      "\u001b[0;31m---------------------------------------------------------------------------\u001b[0m",
      "\u001b[0;31mNameError\u001b[0m                                 Traceback (most recent call last)",
      "\u001b[0;32m<ipython-input-1-7e261ca2ce52>\u001b[0m in \u001b[0;36m<module>\u001b[0;34m()\u001b[0m\n\u001b[1;32m     30\u001b[0m     \u001b[0mplt\u001b[0m\u001b[0;34m.\u001b[0m\u001b[0mxticks\u001b[0m\u001b[0;34m(\u001b[0m\u001b[0;34m[\u001b[0m\u001b[0;34m]\u001b[0m\u001b[0;34m)\u001b[0m\u001b[0;34m,\u001b[0m \u001b[0mplt\u001b[0m\u001b[0;34m.\u001b[0m\u001b[0myticks\u001b[0m\u001b[0;34m(\u001b[0m\u001b[0;34m[\u001b[0m\u001b[0;34m]\u001b[0m\u001b[0;34m)\u001b[0m\u001b[0;34m\u001b[0m\u001b[0m\n\u001b[1;32m     31\u001b[0m     \u001b[0mplt\u001b[0m\u001b[0;34m.\u001b[0m\u001b[0mshow\u001b[0m\u001b[0;34m(\u001b[0m\u001b[0;34m)\u001b[0m\u001b[0;34m\u001b[0m\u001b[0m\n\u001b[0;32m---> 32\u001b[0;31m     \u001b[0mZ\u001b[0m \u001b[0;34m=\u001b[0m \u001b[0miterate\u001b[0m\u001b[0;34m(\u001b[0m\u001b[0mZ\u001b[0m\u001b[0;34m)\u001b[0m\u001b[0;34m\u001b[0m\u001b[0m\n\u001b[0m",
      "\u001b[0;32m<ipython-input-1-7e261ca2ce52>\u001b[0m in \u001b[0;36miterate\u001b[0;34m(Z)\u001b[0m\n\u001b[1;32m      7\u001b[0m     \u001b[0;31m# Apply rules\u001b[0m\u001b[0;34m\u001b[0m\u001b[0;34m\u001b[0m\u001b[0m\n\u001b[1;32m      8\u001b[0m \u001b[0;34m\u001b[0m\u001b[0m\n\u001b[0;32m----> 9\u001b[0;31m     \u001b[0;32mreturn\u001b[0m \u001b[0mres_Z\u001b[0m\u001b[0;34m\u001b[0m\u001b[0m\n\u001b[0m\u001b[1;32m     10\u001b[0m \u001b[0;34m\u001b[0m\u001b[0m\n\u001b[1;32m     11\u001b[0m \u001b[0;31m#Z = np.random.randint(0,2,(10,10))\u001b[0m\u001b[0;34m\u001b[0m\u001b[0;34m\u001b[0m\u001b[0m\n",
      "\u001b[0;31mNameError\u001b[0m: name 'res_Z' is not defined"
     ]
    }
   ],
   "source": [
    "import numpy as np\n",
    "import matplotlib.pyplot as plt\n",
    "\n",
    "def iterate(Z):\n",
    "    # Count neighbours\n",
    "\n",
    "    # Apply rules\n",
    "\n",
    "    return res_Z\n",
    "\n",
    "#Z = np.random.randint(0,2,(10,10))\n",
    "\n",
    "Z = np.array([[0,0,0,1,1,0,0,0,1,0],\n",
    "                 [0,1,1,0,1,0,1,0,0,1],\n",
    "                 [1,1,0,0,1,1,0,1,0,0],\n",
    "                 [0,1,1,1,0,1,1,1,1,0],\n",
    "                 [1,1,1,1,1,1,1,0,1,1],\n",
    "                 [0,1,1,1,1,1,0,0,1,0],\n",
    "                 [1,1,0,1,1,0,0,1,0,0],\n",
    "                 [1,0,0,0,1,0,1,0,0,0],\n",
    "                 [1,0,0,0,0,0,1,0,0,0],\n",
    "                 [0,0,0,0,1,1,1,1,1,0]])\n",
    "\n",
    "#for padding boundary\n",
    "Z = np.lib.pad(Z, ((1,1),(1,1)),  'constant',  constant_values=((0,0), (0,0)))\n",
    "fig = plt.figure()\n",
    "\n",
    "for i in range(20):\n",
    "    plt.imshow(Z,interpolation='nearest', cmap=plt.cm.gray_r)\n",
    "    plt.xticks([]), plt.yticks([])\n",
    "    plt.show()\n",
    "    Z = iterate(Z)\n"
   ]
  },
  {
   "cell_type": "markdown",
   "metadata": {},
   "source": [
    " ![title_res0](./0.png)"
   ]
  },
  {
   "cell_type": "markdown",
   "metadata": {
    "collapsed": true
   },
   "source": [
    " ![title_res1](./1.png)"
   ]
  },
  {
   "cell_type": "markdown",
   "metadata": {},
   "source": [
    " ![title_res2](./2.png)"
   ]
  },
  {
   "cell_type": "code",
   "execution_count": 32,
   "metadata": {},
   "outputs": [
    {
     "data": {
      "text/plain": [
       "array([[0, 0, 0, 0, 0, 0, 0, 0, 0, 0, 0, 0],\n",
       "       [0, 0, 0, 0, 1, 1, 0, 0, 0, 1, 0, 0],\n",
       "       [0, 0, 1, 1, 0, 1, 0, 1, 0, 0, 1, 0],\n",
       "       [0, 1, 1, 0, 0, 1, 1, 0, 1, 0, 0, 0],\n",
       "       [0, 0, 1, 1, 1, 0, 1, 1, 1, 1, 0, 0],\n",
       "       [0, 1, 1, 1, 1, 1, 1, 1, 0, 1, 1, 0],\n",
       "       [0, 0, 1, 1, 1, 1, 1, 0, 0, 1, 0, 0],\n",
       "       [0, 1, 1, 0, 1, 1, 0, 0, 1, 0, 0, 0],\n",
       "       [0, 1, 0, 0, 0, 1, 0, 1, 0, 0, 0, 0],\n",
       "       [0, 1, 0, 0, 0, 0, 0, 1, 0, 0, 0, 0],\n",
       "       [0, 0, 0, 0, 0, 1, 1, 1, 1, 1, 0, 0],\n",
       "       [0, 0, 0, 0, 0, 0, 0, 0, 0, 0, 0, 0]])"
      ]
     },
     "execution_count": 32,
     "metadata": {},
     "output_type": "execute_result"
    }
   ],
   "source": [
    "import numpy as np\n",
    "import matplotlib.pyplot as plt\n",
    "\n",
    "Z = np.array([[0,0,0,1,1,0,0,0,1,0],\n",
    "                 [0,1,1,0,1,0,1,0,0,1],\n",
    "                 [1,1,0,0,1,1,0,1,0,0],\n",
    "                 [0,1,1,1,0,1,1,1,1,0],\n",
    "                 [1,1,1,1,1,1,1,0,1,1],\n",
    "                 [0,1,1,1,1,1,0,0,1,0],\n",
    "                 [1,1,0,1,1,0,0,1,0,0],\n",
    "                 [1,0,0,0,1,0,1,0,0,0],\n",
    "                 [1,0,0,0,0,0,1,0,0,0],\n",
    "                 [0,0,0,0,1,1,1,1,1,0]])\n",
    "\n",
    "Z = np.lib.pad(Z, ((1,1),(1,1)),  'constant',  constant_values=((0,0), (0,0)))\n",
    "\n",
    "                                    \n",
    "Z"
   ]
  },
  {
   "cell_type": "code",
   "execution_count": null,
   "metadata": {
    "collapsed": true
   },
   "outputs": [],
   "source": []
  },
  {
   "cell_type": "code",
   "execution_count": null,
   "metadata": {
    "collapsed": true
   },
   "outputs": [],
   "source": []
  },
  {
   "cell_type": "code",
   "execution_count": null,
   "metadata": {
    "collapsed": true
   },
   "outputs": [],
   "source": []
  }
 ],
 "metadata": {
  "kernelspec": {
   "display_name": "Python 3",
   "language": "python",
   "name": "python3"
  },
  "language_info": {
   "codemirror_mode": {
    "name": "ipython",
    "version": 3
   },
   "file_extension": ".py",
   "mimetype": "text/x-python",
   "name": "python",
   "nbconvert_exporter": "python",
   "pygments_lexer": "ipython3",
   "version": "3.5.4"
  }
 },
 "nbformat": 4,
 "nbformat_minor": 2
}

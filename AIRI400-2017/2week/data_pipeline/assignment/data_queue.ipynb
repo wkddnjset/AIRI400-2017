{
 "cells": [
  {
   "cell_type": "code",
   "execution_count": 2,
   "metadata": {
    "collapsed": true
   },
   "outputs": [],
   "source": [
    "import tensorflow as tf\n",
    "import os\n",
    "import random\n",
    "import math\n",
    "import sys\n",
    "import numpy as np\n",
    "import matplotlib.pyplot as plt"
   ]
  },
  {
   "cell_type": "code",
   "execution_count": 3,
   "metadata": {
    "collapsed": true
   },
   "outputs": [],
   "source": [
    "_NUM_SHARDS = 5\n",
    "_DATA_DIR = \"../flower_data/\""
   ]
  },
  {
   "cell_type": "code",
   "execution_count": null,
   "metadata": {},
   "outputs": [
    {
     "name": "stdout",
     "output_type": "stream",
     "text": [
      "['../flower_data/flower_train_00000-of-00005.tfrecord', '../flower_data/flower_train_00001-of-00005.tfrecord', '../flower_data/flower_train_00002-of-00005.tfrecord', '../flower_data/flower_train_00003-of-00005.tfrecord', '../flower_data/flower_train_00004-of-00005.tfrecord']\n"
     ]
    }
   ],
   "source": [
    "filename_list = []\n",
    "num_epochs = 1\n",
    "\n",
    "for i in range(_NUM_SHARDS):\n",
    "    filename_list.append(os.path.join(_DATA_DIR,  \n",
    "                                      'flower_train_%05d-of-%05d.tfrecord' % (i, _NUM_SHARDS)))\n",
    "\n",
    "print (filename_list)\n",
    "filename_queue = tf.train.string_input_producer(filename_list, num_epochs=num_epochs)\n",
    "reader = tf.TFRecordReader()\n",
    "key, value = reader.read(filename_queue)\n",
    "\n",
    "init_op = tf.group(tf.global_variables_initializer(),\n",
    "                   tf.local_variables_initializer())\n",
    "\n",
    "with tf.Session() as sess:\n",
    "    sess.run(init_op)\n",
    "    \n",
    "    coord = tf.train.Coordinator()\n",
    "    threads = tf.train.start_queue_runners(sess=sess, coord=coord)\n",
    "    step = 0 \n",
    "    try:\n",
    "        while True:\n",
    "            #read tensorflow object\n",
    "#             print (sess.run([key]))\n",
    "            step = step + 1\n",
    "    except tf.errors.OutOfRangeError:\n",
    "        print(\"Done training \")\n",
    "        print (step)\n",
    "    finally:\n",
    "        coord.request_stop()\n",
    "        coord.join(threads)\n",
    "        print (\"thread Done:\")"
   ]
  },
  {
   "cell_type": "code",
   "execution_count": null,
   "metadata": {
    "collapsed": true
   },
   "outputs": [],
   "source": [
    "def inputs(split_name, batch_size, dataset_dir, num_epochs, width, height, is_)"
   ]
  }
 ],
 "metadata": {
  "kernelspec": {
   "display_name": "Python 3",
   "language": "python",
   "name": "python3"
  },
  "language_info": {
   "codemirror_mode": {
    "name": "ipython",
    "version": 3
   },
   "file_extension": ".py",
   "mimetype": "text/x-python",
   "name": "python",
   "nbconvert_exporter": "python",
   "pygments_lexer": "ipython3",
   "version": "3.5.4"
  }
 },
 "nbformat": 4,
 "nbformat_minor": 2
}
